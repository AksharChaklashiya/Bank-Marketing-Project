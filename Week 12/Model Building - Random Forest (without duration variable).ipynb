{
 "cells": [
  {
   "cell_type": "markdown",
   "id": "9fcd2e48",
   "metadata": {},
   "source": [
    "# Bank Marketing Campaign "
   ]
  },
  {
   "cell_type": "markdown",
   "id": "5274589a",
   "metadata": {},
   "source": [
    "**The aim of this notebook is to build a machine learning model to help ABC Bank identify the right customers to target\n",
    "for their marketing campaign by classification of people buying term deposit or not.**\n",
    "\n",
    "\n",
    "# Exploratory Data Analysis\n",
    "\n",
    "In this notebook, we will go through the following steps. \n",
    "\n",
    "1. Data Preparation\n",
    "   \n",
    "   - Importing libraries\n",
    "   - Data Ingestion\n",
    "   - Data Overview/(Data Intake)\n",
    "   - Categorical & Numerical variables\n",
    "   \n",
    "\n",
    "2. **Model Preparation**\n",
    "\n",
    "\n",
    "3. **Model Building**\n",
    "            \n",
    "    \n",
    "4. Communication\n",
    "\n",
    "==================================================================================================="
   ]
  },
  {
   "cell_type": "markdown",
   "id": "72da3f25",
   "metadata": {},
   "source": [
    "# Data Preparation"
   ]
  },
  {
   "cell_type": "markdown",
   "id": "242a5451",
   "metadata": {},
   "source": [
    " ## Import Libraries "
   ]
  },
  {
   "cell_type": "code",
   "execution_count": 1,
   "id": "e244529d",
   "metadata": {},
   "outputs": [],
   "source": [
    "import pandas as pd\n",
    "import matplotlib.pyplot as plt\n",
    "import seaborn as sns\n",
    "import numpy as np\n",
    "\n",
    "# from feature-engine\n",
    "from feature_engine.imputation import (\n",
    "    AddMissingIndicator,\n",
    "    MeanMedianImputer,\n",
    "    CategoricalImputer,\n",
    ")\n",
    "\n",
    "from feature_engine.transformation import (\n",
    "    LogTransformer,\n",
    "    YeoJohnsonTransformer,\n",
    ")\n",
    "\n",
    "from sklearn.preprocessing import MinMaxScaler,LabelEncoder\n",
    "\n",
    "from imblearn.over_sampling import RandomOverSampler\n",
    "from sklearn.ensemble import RandomForestClassifier\n",
    "from sklearn.metrics import ConfusionMatrixDisplay\n",
    "from sklearn.model_selection import GridSearchCV, cross_val_score, train_test_split\n",
    "from sklearn.pipeline import make_pipeline"
   ]
  },
  {
   "cell_type": "code",
   "execution_count": 2,
   "id": "49d17344",
   "metadata": {},
   "outputs": [],
   "source": [
    "import warnings\n",
    "warnings.filterwarnings('ignore')"
   ]
  },
  {
   "cell_type": "markdown",
   "id": "df4059cf",
   "metadata": {},
   "source": [
    "## Data Ingestion"
   ]
  },
  {
   "cell_type": "markdown",
   "id": "27e0972e",
   "metadata": {},
   "source": [
    "### Testutility file"
   ]
  },
  {
   "cell_type": "code",
   "execution_count": 3,
   "id": "f8c8382e",
   "metadata": {},
   "outputs": [
    {
     "name": "stdout",
     "output_type": "stream",
     "text": [
      "Overwriting testutility.py\n"
     ]
    }
   ],
   "source": [
    "%%writefile testutility.py\n",
    "import logging\n",
    "import os\n",
    "import subprocess\n",
    "import yaml \n",
    "import pandas as pd\n",
    "import datetime\n",
    "import gc\n",
    "import re\n",
    "\n",
    "#################\n",
    "# File Reading #\n",
    "#################\n",
    "\n",
    "def read_config_file(filepath):\n",
    "  with open(filepath, \"r\") as stream:\n",
    "    try:\n",
    "      return yaml.safe_load(stream)\n",
    "    except yaml.YAMLError as exc:\n",
    "      logging.error(exc)"
   ]
  },
  {
   "cell_type": "markdown",
   "id": "a5a1568f",
   "metadata": {},
   "source": [
    "### Yaml file"
   ]
  },
  {
   "cell_type": "code",
   "execution_count": 4,
   "id": "2c5b7f3d",
   "metadata": {},
   "outputs": [
    {
     "name": "stdout",
     "output_type": "stream",
     "text": [
      "Overwriting file.yaml\n"
     ]
    }
   ],
   "source": [
    "%%writefile file.yaml\n",
    "file_type: csv\n",
    "dataset_name: testfile\n",
    "file_name: bank-additional-full\n",
    "table_name: edsurv\n",
    "inbound_delimeter: \";\"\n",
    "outbound_delimeter: \"|\""
   ]
  },
  {
   "cell_type": "code",
   "execution_count": 5,
   "id": "0794eb9d",
   "metadata": {},
   "outputs": [],
   "source": [
    "# Read Config file\n",
    "import testutility as util\n",
    "config_data = util.read_config_file(\"file.yaml\")"
   ]
  },
  {
   "cell_type": "code",
   "execution_count": 6,
   "id": "68021aa8",
   "metadata": {},
   "outputs": [
    {
     "data": {
      "text/plain": [
       "'bank-additional-full'"
      ]
     },
     "execution_count": 6,
     "metadata": {},
     "output_type": "execute_result"
    }
   ],
   "source": [
    "config_data[\"file_name\"]"
   ]
  },
  {
   "cell_type": "code",
   "execution_count": 7,
   "id": "48c4ab7e",
   "metadata": {},
   "outputs": [],
   "source": [
    "# read the files using config file\n",
    "file_type = config_data[\"file_type\"]\n",
    "source_file = \"./\" + config_data[\"file_name\"] + f\".{file_type}\"\n",
    "\n",
    "# print(\"\", source_file)\n",
    "df = pd.read_csv(source_file, config_data[\"inbound_delimeter\"])"
   ]
  },
  {
   "cell_type": "markdown",
   "id": "23427976",
   "metadata": {},
   "source": [
    "## Data Overview"
   ]
  },
  {
   "cell_type": "code",
   "execution_count": 8,
   "id": "a083895f",
   "metadata": {},
   "outputs": [
    {
     "data": {
      "text/plain": [
       "(41188, 21)"
      ]
     },
     "execution_count": 8,
     "metadata": {},
     "output_type": "execute_result"
    }
   ],
   "source": [
    "df.shape"
   ]
  },
  {
   "cell_type": "code",
   "execution_count": 9,
   "id": "9a4c8e1a",
   "metadata": {},
   "outputs": [
    {
     "data": {
      "text/html": [
       "<div>\n",
       "<style scoped>\n",
       "    .dataframe tbody tr th:only-of-type {\n",
       "        vertical-align: middle;\n",
       "    }\n",
       "\n",
       "    .dataframe tbody tr th {\n",
       "        vertical-align: top;\n",
       "    }\n",
       "\n",
       "    .dataframe thead th {\n",
       "        text-align: right;\n",
       "    }\n",
       "</style>\n",
       "<table border=\"1\" class=\"dataframe\">\n",
       "  <thead>\n",
       "    <tr style=\"text-align: right;\">\n",
       "      <th></th>\n",
       "      <th>age</th>\n",
       "      <th>job</th>\n",
       "      <th>marital</th>\n",
       "      <th>education</th>\n",
       "      <th>default</th>\n",
       "      <th>housing</th>\n",
       "      <th>loan</th>\n",
       "      <th>contact</th>\n",
       "      <th>month</th>\n",
       "      <th>day_of_week</th>\n",
       "      <th>...</th>\n",
       "      <th>campaign</th>\n",
       "      <th>pdays</th>\n",
       "      <th>previous</th>\n",
       "      <th>poutcome</th>\n",
       "      <th>emp.var.rate</th>\n",
       "      <th>cons.price.idx</th>\n",
       "      <th>cons.conf.idx</th>\n",
       "      <th>euribor3m</th>\n",
       "      <th>nr.employed</th>\n",
       "      <th>y</th>\n",
       "    </tr>\n",
       "  </thead>\n",
       "  <tbody>\n",
       "    <tr>\n",
       "      <th>0</th>\n",
       "      <td>56</td>\n",
       "      <td>housemaid</td>\n",
       "      <td>married</td>\n",
       "      <td>basic.4y</td>\n",
       "      <td>no</td>\n",
       "      <td>no</td>\n",
       "      <td>no</td>\n",
       "      <td>telephone</td>\n",
       "      <td>may</td>\n",
       "      <td>mon</td>\n",
       "      <td>...</td>\n",
       "      <td>1</td>\n",
       "      <td>999</td>\n",
       "      <td>0</td>\n",
       "      <td>nonexistent</td>\n",
       "      <td>1.1</td>\n",
       "      <td>93.994</td>\n",
       "      <td>-36.4</td>\n",
       "      <td>4.857</td>\n",
       "      <td>5191.0</td>\n",
       "      <td>no</td>\n",
       "    </tr>\n",
       "    <tr>\n",
       "      <th>1</th>\n",
       "      <td>57</td>\n",
       "      <td>services</td>\n",
       "      <td>married</td>\n",
       "      <td>high.school</td>\n",
       "      <td>unknown</td>\n",
       "      <td>no</td>\n",
       "      <td>no</td>\n",
       "      <td>telephone</td>\n",
       "      <td>may</td>\n",
       "      <td>mon</td>\n",
       "      <td>...</td>\n",
       "      <td>1</td>\n",
       "      <td>999</td>\n",
       "      <td>0</td>\n",
       "      <td>nonexistent</td>\n",
       "      <td>1.1</td>\n",
       "      <td>93.994</td>\n",
       "      <td>-36.4</td>\n",
       "      <td>4.857</td>\n",
       "      <td>5191.0</td>\n",
       "      <td>no</td>\n",
       "    </tr>\n",
       "    <tr>\n",
       "      <th>2</th>\n",
       "      <td>37</td>\n",
       "      <td>services</td>\n",
       "      <td>married</td>\n",
       "      <td>high.school</td>\n",
       "      <td>no</td>\n",
       "      <td>yes</td>\n",
       "      <td>no</td>\n",
       "      <td>telephone</td>\n",
       "      <td>may</td>\n",
       "      <td>mon</td>\n",
       "      <td>...</td>\n",
       "      <td>1</td>\n",
       "      <td>999</td>\n",
       "      <td>0</td>\n",
       "      <td>nonexistent</td>\n",
       "      <td>1.1</td>\n",
       "      <td>93.994</td>\n",
       "      <td>-36.4</td>\n",
       "      <td>4.857</td>\n",
       "      <td>5191.0</td>\n",
       "      <td>no</td>\n",
       "    </tr>\n",
       "    <tr>\n",
       "      <th>3</th>\n",
       "      <td>40</td>\n",
       "      <td>admin.</td>\n",
       "      <td>married</td>\n",
       "      <td>basic.6y</td>\n",
       "      <td>no</td>\n",
       "      <td>no</td>\n",
       "      <td>no</td>\n",
       "      <td>telephone</td>\n",
       "      <td>may</td>\n",
       "      <td>mon</td>\n",
       "      <td>...</td>\n",
       "      <td>1</td>\n",
       "      <td>999</td>\n",
       "      <td>0</td>\n",
       "      <td>nonexistent</td>\n",
       "      <td>1.1</td>\n",
       "      <td>93.994</td>\n",
       "      <td>-36.4</td>\n",
       "      <td>4.857</td>\n",
       "      <td>5191.0</td>\n",
       "      <td>no</td>\n",
       "    </tr>\n",
       "    <tr>\n",
       "      <th>4</th>\n",
       "      <td>56</td>\n",
       "      <td>services</td>\n",
       "      <td>married</td>\n",
       "      <td>high.school</td>\n",
       "      <td>no</td>\n",
       "      <td>no</td>\n",
       "      <td>yes</td>\n",
       "      <td>telephone</td>\n",
       "      <td>may</td>\n",
       "      <td>mon</td>\n",
       "      <td>...</td>\n",
       "      <td>1</td>\n",
       "      <td>999</td>\n",
       "      <td>0</td>\n",
       "      <td>nonexistent</td>\n",
       "      <td>1.1</td>\n",
       "      <td>93.994</td>\n",
       "      <td>-36.4</td>\n",
       "      <td>4.857</td>\n",
       "      <td>5191.0</td>\n",
       "      <td>no</td>\n",
       "    </tr>\n",
       "  </tbody>\n",
       "</table>\n",
       "<p>5 rows × 21 columns</p>\n",
       "</div>"
      ],
      "text/plain": [
       "   age        job  marital    education  default housing loan    contact  \\\n",
       "0   56  housemaid  married     basic.4y       no      no   no  telephone   \n",
       "1   57   services  married  high.school  unknown      no   no  telephone   \n",
       "2   37   services  married  high.school       no     yes   no  telephone   \n",
       "3   40     admin.  married     basic.6y       no      no   no  telephone   \n",
       "4   56   services  married  high.school       no      no  yes  telephone   \n",
       "\n",
       "  month day_of_week  ...  campaign  pdays  previous     poutcome emp.var.rate  \\\n",
       "0   may         mon  ...         1    999         0  nonexistent          1.1   \n",
       "1   may         mon  ...         1    999         0  nonexistent          1.1   \n",
       "2   may         mon  ...         1    999         0  nonexistent          1.1   \n",
       "3   may         mon  ...         1    999         0  nonexistent          1.1   \n",
       "4   may         mon  ...         1    999         0  nonexistent          1.1   \n",
       "\n",
       "   cons.price.idx  cons.conf.idx  euribor3m  nr.employed   y  \n",
       "0          93.994          -36.4      4.857       5191.0  no  \n",
       "1          93.994          -36.4      4.857       5191.0  no  \n",
       "2          93.994          -36.4      4.857       5191.0  no  \n",
       "3          93.994          -36.4      4.857       5191.0  no  \n",
       "4          93.994          -36.4      4.857       5191.0  no  \n",
       "\n",
       "[5 rows x 21 columns]"
      ]
     },
     "execution_count": 9,
     "metadata": {},
     "output_type": "execute_result"
    }
   ],
   "source": [
    "df.head()"
   ]
  },
  {
   "cell_type": "code",
   "execution_count": 10,
   "id": "30420a8f",
   "metadata": {},
   "outputs": [
    {
     "name": "stdout",
     "output_type": "stream",
     "text": [
      "<class 'pandas.core.frame.DataFrame'>\n",
      "RangeIndex: 41188 entries, 0 to 41187\n",
      "Data columns (total 21 columns):\n",
      " #   Column          Non-Null Count  Dtype  \n",
      "---  ------          --------------  -----  \n",
      " 0   age             41188 non-null  int64  \n",
      " 1   job             41188 non-null  object \n",
      " 2   marital         41188 non-null  object \n",
      " 3   education       41188 non-null  object \n",
      " 4   default         41188 non-null  object \n",
      " 5   housing         41188 non-null  object \n",
      " 6   loan            41188 non-null  object \n",
      " 7   contact         41188 non-null  object \n",
      " 8   month           41188 non-null  object \n",
      " 9   day_of_week     41188 non-null  object \n",
      " 10  duration        41188 non-null  int64  \n",
      " 11  campaign        41188 non-null  int64  \n",
      " 12  pdays           41188 non-null  int64  \n",
      " 13  previous        41188 non-null  int64  \n",
      " 14  poutcome        41188 non-null  object \n",
      " 15  emp.var.rate    41188 non-null  float64\n",
      " 16  cons.price.idx  41188 non-null  float64\n",
      " 17  cons.conf.idx   41188 non-null  float64\n",
      " 18  euribor3m       41188 non-null  float64\n",
      " 19  nr.employed     41188 non-null  float64\n",
      " 20  y               41188 non-null  object \n",
      "dtypes: float64(5), int64(5), object(11)\n",
      "memory usage: 6.6+ MB\n"
     ]
    }
   ],
   "source": [
    "df.info()"
   ]
  },
  {
   "cell_type": "code",
   "execution_count": 11,
   "id": "9286d488",
   "metadata": {},
   "outputs": [],
   "source": [
    "import os\n",
    "def summary(df, source_file):\n",
    "    rows = len(df)\n",
    "    columns = len(df.columns)\n",
    "    print(f\"Number of Rows: {rows}\")\n",
    "    print(f\"Number of Columns: {columns}\")\n",
    "    file_size = os.path.getsize(source_file)\n",
    "    print(f\"Size: {file_size} bytes\")"
   ]
  },
  {
   "cell_type": "code",
   "execution_count": 12,
   "id": "0822f6c4",
   "metadata": {},
   "outputs": [
    {
     "name": "stdout",
     "output_type": "stream",
     "text": [
      "Number of Rows: 41188\n",
      "Number of Columns: 21\n",
      "Size: 5834924 bytes\n"
     ]
    }
   ],
   "source": [
    "summary(df, source_file)"
   ]
  },
  {
   "cell_type": "code",
   "execution_count": 13,
   "id": "109e3825",
   "metadata": {},
   "outputs": [
    {
     "data": {
      "text/plain": [
       "Index(['age', 'job', 'marital', 'education', 'default', 'housing', 'loan',\n",
       "       'contact', 'month', 'day_of_week', 'duration', 'campaign', 'pdays',\n",
       "       'previous', 'poutcome', 'emp.var.rate', 'cons.price.idx',\n",
       "       'cons.conf.idx', 'euribor3m', 'nr.employed', 'y'],\n",
       "      dtype='object')"
      ]
     },
     "execution_count": 13,
     "metadata": {},
     "output_type": "execute_result"
    }
   ],
   "source": [
    "df.columns"
   ]
  },
  {
   "cell_type": "code",
   "execution_count": 14,
   "id": "f3c136ea",
   "metadata": {},
   "outputs": [
    {
     "data": {
      "text/plain": [
       "12"
      ]
     },
     "execution_count": 14,
     "metadata": {},
     "output_type": "execute_result"
    }
   ],
   "source": [
    "df.duplicated().sum()"
   ]
  },
  {
   "cell_type": "code",
   "execution_count": 15,
   "id": "98703e45",
   "metadata": {},
   "outputs": [],
   "source": [
    "# Remove Duplicates\n",
    "df = df.drop_duplicates()"
   ]
  },
  {
   "cell_type": "code",
   "execution_count": 16,
   "id": "e7019f5a",
   "metadata": {},
   "outputs": [
    {
     "data": {
      "text/plain": [
       "0"
      ]
     },
     "execution_count": 16,
     "metadata": {},
     "output_type": "execute_result"
    }
   ],
   "source": [
    "df.duplicated().sum()"
   ]
  },
  {
   "cell_type": "code",
   "execution_count": 17,
   "id": "585911e8",
   "metadata": {},
   "outputs": [
    {
     "data": {
      "text/plain": [
       "age                 int64\n",
       "job                object\n",
       "marital            object\n",
       "education          object\n",
       "default            object\n",
       "housing            object\n",
       "loan               object\n",
       "contact            object\n",
       "month              object\n",
       "day_of_week        object\n",
       "duration            int64\n",
       "campaign            int64\n",
       "pdays               int64\n",
       "previous            int64\n",
       "poutcome           object\n",
       "emp.var.rate      float64\n",
       "cons.price.idx    float64\n",
       "cons.conf.idx     float64\n",
       "euribor3m         float64\n",
       "nr.employed       float64\n",
       "y                  object\n",
       "dtype: object"
      ]
     },
     "execution_count": 17,
     "metadata": {},
     "output_type": "execute_result"
    }
   ],
   "source": [
    "df.dtypes"
   ]
  },
  {
   "cell_type": "markdown",
   "id": "27c3f52a",
   "metadata": {},
   "source": [
    "Data types are correctly assigned"
   ]
  },
  {
   "cell_type": "code",
   "execution_count": 18,
   "id": "5a42501a",
   "metadata": {},
   "outputs": [
    {
     "data": {
      "text/plain": [
       "age               0\n",
       "job               0\n",
       "marital           0\n",
       "education         0\n",
       "default           0\n",
       "housing           0\n",
       "loan              0\n",
       "contact           0\n",
       "month             0\n",
       "day_of_week       0\n",
       "duration          0\n",
       "campaign          0\n",
       "pdays             0\n",
       "previous          0\n",
       "poutcome          0\n",
       "emp.var.rate      0\n",
       "cons.price.idx    0\n",
       "cons.conf.idx     0\n",
       "euribor3m         0\n",
       "nr.employed       0\n",
       "y                 0\n",
       "dtype: int64"
      ]
     },
     "execution_count": 18,
     "metadata": {},
     "output_type": "execute_result"
    }
   ],
   "source": [
    "df.isna().sum()"
   ]
  },
  {
   "cell_type": "markdown",
   "id": "21f71741",
   "metadata": {},
   "source": [
    "Now, as per above result,  we can see there is no any duplicate value nor null value."
   ]
  },
  {
   "cell_type": "markdown",
   "id": "352f5b39",
   "metadata": {},
   "source": [
    "## Categorical & Numerical variables"
   ]
  },
  {
   "cell_type": "markdown",
   "id": "7953fe25",
   "metadata": {},
   "source": [
    "### Variable Types"
   ]
  },
  {
   "cell_type": "markdown",
   "id": "f3fd98e5",
   "metadata": {},
   "source": [
    "#### Target Variable"
   ]
  },
  {
   "cell_type": "code",
   "execution_count": 19,
   "id": "7d3e8bf3",
   "metadata": {},
   "outputs": [
    {
     "data": {
      "text/plain": [
       "['y']"
      ]
     },
     "execution_count": 19,
     "metadata": {},
     "output_type": "execute_result"
    }
   ],
   "source": [
    "target_var = ['y']\n",
    "target = df[target_var]\n",
    "target_var"
   ]
  },
  {
   "cell_type": "code",
   "execution_count": 20,
   "id": "4caecf26",
   "metadata": {},
   "outputs": [
    {
     "data": {
      "text/plain": [
       "array(['no', 'yes'], dtype=object)"
      ]
     },
     "execution_count": 20,
     "metadata": {},
     "output_type": "execute_result"
    }
   ],
   "source": [
    "df[\"y\"].unique()"
   ]
  },
  {
   "cell_type": "markdown",
   "id": "2a61940d",
   "metadata": {},
   "source": [
    "#### Categorical Variables"
   ]
  },
  {
   "cell_type": "code",
   "execution_count": 21,
   "id": "9e9be65d",
   "metadata": {},
   "outputs": [
    {
     "data": {
      "text/plain": [
       "['job', 'marital', 'education', 'housing', 'loan', 'contact', 'poutcome']"
      ]
     },
     "execution_count": 21,
     "metadata": {},
     "output_type": "execute_result"
    }
   ],
   "source": [
    "categorical_var = [var for var in df.columns \n",
    "                   if df[var].dtype==\"O\" and \n",
    "                   var not in target_var and \n",
    "                   var not in [\"month\", \"day_of_week\", \"default\"]]\n",
    "categorical_var"
   ]
  },
  {
   "cell_type": "code",
   "execution_count": 22,
   "id": "b925485c",
   "metadata": {},
   "outputs": [
    {
     "name": "stdout",
     "output_type": "stream",
     "text": [
      "job ['housemaid' 'services' 'admin.' 'blue-collar' 'technician' 'retired'\n",
      " 'management' 'unemployed' 'self-employed' 'unknown' 'entrepreneur'\n",
      " 'student']\n",
      "\n",
      "marital ['married' 'single' 'divorced' 'unknown']\n",
      "\n",
      "education ['basic.4y' 'high.school' 'basic.6y' 'basic.9y' 'professional.course'\n",
      " 'unknown' 'university.degree' 'illiterate']\n",
      "\n",
      "housing ['no' 'yes' 'unknown']\n",
      "\n",
      "loan ['no' 'yes' 'unknown']\n",
      "\n",
      "contact ['telephone' 'cellular']\n",
      "\n",
      "poutcome ['nonexistent' 'failure' 'success']\n",
      "\n"
     ]
    }
   ],
   "source": [
    "# let's explore the values of these categorical variables\n",
    "for var in categorical_var:\n",
    "    print(var, df[var].unique())\n",
    "    print()"
   ]
  },
  {
   "cell_type": "markdown",
   "id": "41bd28f7",
   "metadata": {},
   "source": [
    "#### Numeric Variables"
   ]
  },
  {
   "cell_type": "code",
   "execution_count": 23,
   "id": "4637a974",
   "metadata": {},
   "outputs": [
    {
     "data": {
      "text/plain": [
       "['age',\n",
       " 'default',\n",
       " 'duration',\n",
       " 'campaign',\n",
       " 'pdays',\n",
       " 'previous',\n",
       " 'emp.var.rate',\n",
       " 'cons.price.idx',\n",
       " 'cons.conf.idx',\n",
       " 'euribor3m',\n",
       " 'nr.employed']"
      ]
     },
     "execution_count": 23,
     "metadata": {},
     "output_type": "execute_result"
    }
   ],
   "source": [
    "numerical_var = [var for var in df.columns if var not in categorical_var + target_var and var not in [\"month\", \"day_of_week\"]]\n",
    "numerical_var"
   ]
  },
  {
   "cell_type": "markdown",
   "id": "0c058388",
   "metadata": {},
   "source": [
    "#### Temporal Variables "
   ]
  },
  {
   "cell_type": "code",
   "execution_count": 24,
   "id": "13d6901c",
   "metadata": {},
   "outputs": [
    {
     "data": {
      "text/plain": [
       "['month', 'day_of_week']"
      ]
     },
     "execution_count": 24,
     "metadata": {},
     "output_type": "execute_result"
    }
   ],
   "source": [
    "temporal_var = [var for var in df.columns if var ==\"month\" or var==\"day_of_week\"]\n",
    "temporal_var"
   ]
  },
  {
   "cell_type": "code",
   "execution_count": 25,
   "id": "45fc7f32",
   "metadata": {},
   "outputs": [
    {
     "name": "stdout",
     "output_type": "stream",
     "text": [
      "month ['may' 'jun' 'jul' 'aug' 'oct' 'nov' 'dec' 'mar' 'apr' 'sep']\n",
      "\n",
      "day_of_week ['mon' 'tue' 'wed' 'thu' 'fri']\n",
      "\n"
     ]
    }
   ],
   "source": [
    "# let's explore the values of these temporal variables\n",
    "\n",
    "for var in temporal_var:\n",
    "    print(var, df[var].unique())\n",
    "    print()"
   ]
  },
  {
   "cell_type": "markdown",
   "id": "a48fe3f4",
   "metadata": {},
   "source": [
    "#### Discreete Variable "
   ]
  },
  {
   "cell_type": "code",
   "execution_count": 26,
   "id": "fcc3fc30",
   "metadata": {},
   "outputs": [
    {
     "data": {
      "text/plain": [
       "['default',\n",
       " 'pdays',\n",
       " 'previous',\n",
       " 'emp.var.rate',\n",
       " 'cons.price.idx',\n",
       " 'cons.conf.idx',\n",
       " 'nr.employed']"
      ]
     },
     "execution_count": 26,
     "metadata": {},
     "output_type": "execute_result"
    }
   ],
   "source": [
    "discrete_var = [var for var in numerical_var if len(df[var].unique()) < 32 and var not in temporal_var]\n",
    "discrete_var"
   ]
  },
  {
   "cell_type": "code",
   "execution_count": 27,
   "id": "1bec8f8d",
   "metadata": {},
   "outputs": [
    {
     "name": "stdout",
     "output_type": "stream",
     "text": [
      "default ['no' 'unknown' 'yes']\n",
      "\n",
      "pdays [999   6   4   3   5   1   0  10   7   8   9  11   2  12  13  14  15  16\n",
      "  21  17  18  22  25  26  19  27  20]\n",
      "\n",
      "previous [0 1 2 3 4 5 6 7]\n",
      "\n",
      "emp.var.rate [ 1.1  1.4 -0.1 -0.2 -1.8 -2.9 -3.4 -3.  -1.7 -1.1]\n",
      "\n",
      "cons.price.idx [93.994 94.465 93.918 93.444 93.798 93.2   92.756 92.843 93.075 92.893\n",
      " 92.963 92.469 92.201 92.379 92.431 92.649 92.713 93.369 93.749 93.876\n",
      " 94.055 94.215 94.027 94.199 94.601 94.767]\n",
      "\n",
      "cons.conf.idx [-36.4 -41.8 -42.7 -36.1 -40.4 -42.  -45.9 -50.  -47.1 -46.2 -40.8 -33.6\n",
      " -31.4 -29.8 -26.9 -30.1 -33.  -34.8 -34.6 -40.  -39.8 -40.3 -38.3 -37.5\n",
      " -49.5 -50.8]\n",
      "\n",
      "nr.employed [5191.  5228.1 5195.8 5176.3 5099.1 5076.2 5017.5 5023.5 5008.7 4991.6\n",
      " 4963.6]\n",
      "\n"
     ]
    }
   ],
   "source": [
    "# let's explore the values of these discrete variables\n",
    "\n",
    "for var in discrete_var:\n",
    "    print(var, df[var].unique())\n",
    "    print()"
   ]
  },
  {
   "cell_type": "markdown",
   "id": "0d24af25",
   "metadata": {},
   "source": [
    "##### Continuous variables "
   ]
  },
  {
   "cell_type": "code",
   "execution_count": 28,
   "id": "0fb8814d",
   "metadata": {},
   "outputs": [
    {
     "data": {
      "text/plain": [
       "['age', 'duration', 'campaign', 'euribor3m']"
      ]
     },
     "execution_count": 28,
     "metadata": {},
     "output_type": "execute_result"
    }
   ],
   "source": [
    "# make list of continuous variables\n",
    "continuous_var = [\n",
    "    var for var in numerical_var if var not in discrete_var+temporal_var]\n",
    "continuous_var"
   ]
  },
  {
   "cell_type": "code",
   "execution_count": 29,
   "id": "bbedb36e",
   "metadata": {},
   "outputs": [
    {
     "name": "stdout",
     "output_type": "stream",
     "text": [
      "age [56 57 37 40 45 59 41 24 25 29 35 54 46 50 39 30 55 49 34 52 58 32 38 44\n",
      " 42 60 53 47 51 48 33 31 43 36 28 27 26 22 23 20 21 61 19 18 70 66 76 67\n",
      " 73 88 95 77 68 75 63 80 62 65 72 82 64 71 69 78 85 79 83 81 74 17 87 91\n",
      " 86 98 94 84 92 89]\n",
      "\n",
      "duration [ 261  149  226 ... 1246 1556 1868]\n",
      "\n",
      "campaign [ 1  2  3  4  5  6  7  8  9 10 11 12 13 19 18 23 14 22 25 16 17 15 20 56\n",
      " 39 35 42 28 26 27 32 21 24 29 31 30 41 37 40 33 34 43]\n",
      "\n",
      "euribor3m [4.857 4.856 4.855 4.859 4.86  4.858 4.864 4.865 4.866 4.967 4.961 4.959\n",
      " 4.958 4.96  4.962 4.955 4.947 4.956 4.966 4.963 4.957 4.968 4.97  4.965\n",
      " 4.964 5.045 5.    4.936 4.921 4.918 4.912 4.827 4.794 4.76  4.733 4.7\n",
      " 4.663 4.592 4.474 4.406 4.343 4.286 4.245 4.223 4.191 4.153 4.12  4.076\n",
      " 4.021 3.901 3.879 3.853 3.816 3.743 3.669 3.563 3.488 3.428 3.329 3.282\n",
      " 3.053 1.811 1.799 1.778 1.757 1.726 1.703 1.687 1.663 1.65  1.64  1.629\n",
      " 1.614 1.602 1.584 1.574 1.56  1.556 1.548 1.538 1.531 1.52  1.51  1.498\n",
      " 1.483 1.479 1.466 1.453 1.445 1.435 1.423 1.415 1.41  1.405 1.406 1.4\n",
      " 1.392 1.384 1.372 1.365 1.354 1.344 1.334 1.327 1.313 1.299 1.291 1.281\n",
      " 1.266 1.25  1.244 1.259 1.264 1.27  1.262 1.26  1.268 1.286 1.252 1.235\n",
      " 1.224 1.215 1.206 1.099 1.085 1.072 1.059 1.048 1.044 1.029 1.018 1.007\n",
      " 0.996 0.979 0.969 0.944 0.937 0.933 0.927 0.921 0.914 0.908 0.903 0.899\n",
      " 0.884 0.883 0.881 0.879 0.873 0.869 0.861 0.859 0.854 0.851 0.849 0.843\n",
      " 0.838 0.834 0.829 0.825 0.821 0.819 0.813 0.809 0.803 0.797 0.788 0.781\n",
      " 0.778 0.773 0.771 0.77  0.768 0.766 0.762 0.755 0.749 0.743 0.741 0.739\n",
      " 0.75  0.753 0.754 0.752 0.744 0.74  0.742 0.737 0.735 0.733 0.73  0.731\n",
      " 0.728 0.724 0.722 0.72  0.719 0.716 0.715 0.714 0.718 0.721 0.717 0.712\n",
      " 0.71  0.709 0.708 0.706 0.707 0.7   0.655 0.654 0.653 0.652 0.651 0.65\n",
      " 0.649 0.646 0.644 0.643 0.639 0.637 0.635 0.636 0.634 0.638 0.64  0.642\n",
      " 0.645 0.659 0.663 0.668 0.672 0.677 0.682 0.683 0.684 0.685 0.688 0.69\n",
      " 0.692 0.695 0.697 0.699 0.701 0.702 0.704 0.711 0.713 0.723 0.727 0.729\n",
      " 0.732 0.748 0.761 0.767 0.782 0.79  0.793 0.802 0.81  0.822 0.827 0.835\n",
      " 0.84  0.846 0.87  0.876 0.885 0.889 0.893 0.896 0.898 0.9   0.904 0.905\n",
      " 0.895 0.894 0.891 0.89  0.888 0.886 0.882 0.88  0.878 0.877 0.942 0.953\n",
      " 0.956 0.959 0.965 0.972 0.977 0.982 0.985 0.987 0.993 1.    1.008 1.016\n",
      " 1.025 1.032 1.037 1.043 1.045 1.047 1.05  1.049 1.046 1.041 1.04  1.039\n",
      " 1.035 1.03  1.031 1.028]\n",
      "\n"
     ]
    }
   ],
   "source": [
    "# let's explore the values of these temporal variables\n",
    "\n",
    "for var in continuous_var:\n",
    "    print(var, df[var].unique())\n",
    "    print()"
   ]
  },
  {
   "cell_type": "markdown",
   "id": "8d528948",
   "metadata": {},
   "source": [
    "## Model Preparation"
   ]
  },
  {
   "cell_type": "markdown",
   "id": "3b3a6b8a",
   "metadata": {},
   "source": [
    "NOTES:\n",
    "- Duration is a variable we can explore during EDA for business purposes to decide if we should try engaging the person for longer time on the call or not. The model should be built with and without the duration variable becuase Duration is obtained after the call is made to the potential client so if the target client has never received calls, this feature is not very useful. \n",
    "- No missing values or duplicate values. Data Types correctly assigned. So no need of change there.\n",
    "- There is a 999 value existing in pdays column meaning the customer has not been contacted before. We should change it to 0\n",
    "- Outliers need to be handled in the deposit column\n",
    "- Age column can be log transformed"
   ]
  },
  {
   "cell_type": "code",
   "execution_count": 31,
   "id": "df57ec90",
   "metadata": {},
   "outputs": [],
   "source": [
    "# dropping default column since very few values with \"yes\" so do not give model any predictive power\n",
    "df.drop(columns =['default'] ,axis =1 ,inplace = True)\n",
    "df.drop(columns = [\"duration\"], axis=1, inplace = True)"
   ]
  },
  {
   "cell_type": "markdown",
   "id": "7a06962c",
   "metadata": {},
   "source": [
    "## Train-Test Split"
   ]
  },
  {
   "cell_type": "code",
   "execution_count": 32,
   "id": "1e09c6e2",
   "metadata": {},
   "outputs": [
    {
     "name": "stdout",
     "output_type": "stream",
     "text": [
      "X shape: (41176, 18)\n",
      "y shape: (41176,)\n"
     ]
    }
   ],
   "source": [
    "target = \"y\"\n",
    "X = df.drop(columns=target)\n",
    "y = df[target]\n",
    "\n",
    "print(\"X shape:\", X.shape)\n",
    "print(\"y shape:\", y.shape)"
   ]
  },
  {
   "cell_type": "code",
   "execution_count": 33,
   "id": "fc3862d3",
   "metadata": {},
   "outputs": [
    {
     "name": "stdout",
     "output_type": "stream",
     "text": [
      "X_train shape: (32940, 18)\n",
      "y_train shape: (32940,)\n",
      "X_test shape: (8236, 18)\n",
      "y_test shape: (8236,)\n"
     ]
    }
   ],
   "source": [
    "X_train, X_test, y_train, y_test = train_test_split(\n",
    "    X, y, test_size=0.2, random_state=42\n",
    ")\n",
    "\n",
    "print(\"X_train shape:\", X_train.shape)\n",
    "print(\"y_train shape:\", y_train.shape)\n",
    "print(\"X_test shape:\", X_test.shape)\n",
    "print(\"y_test shape:\", y_test.shape)"
   ]
  },
  {
   "cell_type": "markdown",
   "id": "36c4648b",
   "metadata": {},
   "source": [
    "# Feature Engineering"
   ]
  },
  {
   "cell_type": "markdown",
   "id": "4a82e6bc",
   "metadata": {},
   "source": [
    "### Missing Values"
   ]
  },
  {
   "cell_type": "code",
   "execution_count": 34,
   "id": "b0b1e981",
   "metadata": {},
   "outputs": [
    {
     "data": {
      "text/plain": [
       "age               0\n",
       "job               0\n",
       "marital           0\n",
       "education         0\n",
       "housing           0\n",
       "loan              0\n",
       "contact           0\n",
       "month             0\n",
       "day_of_week       0\n",
       "campaign          0\n",
       "pdays             0\n",
       "previous          0\n",
       "poutcome          0\n",
       "emp.var.rate      0\n",
       "cons.price.idx    0\n",
       "cons.conf.idx     0\n",
       "euribor3m         0\n",
       "nr.employed       0\n",
       "y                 0\n",
       "dtype: int64"
      ]
     },
     "execution_count": 34,
     "metadata": {},
     "output_type": "execute_result"
    }
   ],
   "source": [
    "df.isnull().sum()"
   ]
  },
  {
   "cell_type": "markdown",
   "id": "adf9ab3c",
   "metadata": {},
   "source": [
    "Fortunately, there are no missing values in the dataset. However, after exploring we find that 6 of the categorical variables have an \"unknown\" value. Those are the only missing values which do not necessarily need to be dealt with as the \"unknown\" category is already created for them. However, the categorical variables with a small proportion of \"unknown\" values (less than 10%) can be replaced with the most frequent value of the column while the ones with high proportion of missing values (more than 10%) can be left as a separate \"unknown\" category."
   ]
  },
  {
   "cell_type": "markdown",
   "id": "67cb0197",
   "metadata": {},
   "source": [
    "Since we removed the default column there are only 5 categorical variables with unknown values and none of them have more than 10% unknown value"
   ]
  },
  {
   "cell_type": "code",
   "execution_count": 35,
   "id": "132a5178",
   "metadata": {},
   "outputs": [
    {
     "data": {
      "text/plain": [
       "age               0.000000\n",
       "job               0.008349\n",
       "marital           0.001973\n",
       "education         0.042259\n",
       "housing           0.023953\n",
       "loan              0.023953\n",
       "contact           0.000000\n",
       "month             0.000000\n",
       "day_of_week       0.000000\n",
       "campaign          0.000000\n",
       "pdays             0.000000\n",
       "previous          0.000000\n",
       "poutcome          0.000000\n",
       "emp.var.rate      0.000000\n",
       "cons.price.idx    0.000000\n",
       "cons.conf.idx     0.000000\n",
       "euribor3m         0.000000\n",
       "nr.employed       0.000000\n",
       "dtype: float64"
      ]
     },
     "execution_count": 35,
     "metadata": {},
     "output_type": "execute_result"
    }
   ],
   "source": [
    "# To handle the missing values, we first turn the 'unknown' observations to NaNs\n",
    "X_train = X_train.replace('unknown', np.nan)\n",
    "X_test = X_test.replace('unknown', np.nan)\n",
    "X_train.isnull().mean()"
   ]
  },
  {
   "cell_type": "code",
   "execution_count": 36,
   "id": "1e507682",
   "metadata": {},
   "outputs": [
    {
     "data": {
      "text/plain": [
       "education    0.042259\n",
       "housing      0.023953\n",
       "loan         0.023953\n",
       "job          0.008349\n",
       "marital      0.001973\n",
       "dtype: float64"
      ]
     },
     "execution_count": 36,
     "metadata": {},
     "output_type": "execute_result"
    }
   ],
   "source": [
    "# make a list of the categorical variables that contain missing values\n",
    "\n",
    "cat_vars_with_na = [\n",
    "    var for var in categorical_var\n",
    "    if X_train[var].isnull().sum() > 0\n",
    "]\n",
    "\n",
    "# print percentage of missing values per variable\n",
    "X_train[cat_vars_with_na ].isnull().mean().sort_values(ascending=False)"
   ]
  },
  {
   "cell_type": "code",
   "execution_count": 37,
   "id": "e04508e7",
   "metadata": {},
   "outputs": [
    {
     "data": {
      "text/plain": [
       "['job', 'marital', 'education', 'housing', 'loan']"
      ]
     },
     "execution_count": 37,
     "metadata": {},
     "output_type": "execute_result"
    }
   ],
   "source": [
    "cat_vars_with_na"
   ]
  },
  {
   "cell_type": "code",
   "execution_count": 38,
   "id": "cff0a1f6",
   "metadata": {},
   "outputs": [],
   "source": [
    "# # variables to impute with the string \"unknown\"\n",
    "# with_string_missing = [\n",
    "#     var for var in cat_vars_with_na if X_train[var].isnull().mean() > 0.05]\n",
    "\n",
    "# variables to impute with the most frequent category\n",
    "with_frequent_category = [\n",
    "    var for var in cat_vars_with_na if X_train[var].isnull().mean() < 0.05]"
   ]
  },
  {
   "cell_type": "code",
   "execution_count": 39,
   "id": "2bfeed26",
   "metadata": {},
   "outputs": [],
   "source": [
    "# # I print the values here, because it makes it easier for\n",
    "# # later when we need to add this values to a config file for \n",
    "# # deployment\n",
    "\n",
    "# with_string_missing"
   ]
  },
  {
   "cell_type": "code",
   "execution_count": 40,
   "id": "4e302513",
   "metadata": {},
   "outputs": [
    {
     "data": {
      "text/plain": [
       "['job', 'marital', 'education', 'housing', 'loan']"
      ]
     },
     "execution_count": 40,
     "metadata": {},
     "output_type": "execute_result"
    }
   ],
   "source": [
    "with_frequent_category"
   ]
  },
  {
   "cell_type": "code",
   "execution_count": 41,
   "id": "b2363e6b",
   "metadata": {},
   "outputs": [],
   "source": [
    "# # replace missing values with new label: \"unknown\"\n",
    "\n",
    "# # set up the class\n",
    "# cat_imputer_missing = CategoricalImputer(\n",
    "#     imputation_method='missing', fill_value = \"unknown\", variables=with_string_missing)\n",
    "\n",
    "# # fit the class to the train set\n",
    "# cat_imputer_missing.fit(X_train)\n",
    "\n",
    "# # the class learns and stores the parameters\n",
    "# cat_imputer_missing.imputer_dict_"
   ]
  },
  {
   "cell_type": "code",
   "execution_count": 42,
   "id": "849b27f8",
   "metadata": {},
   "outputs": [],
   "source": [
    "# # replace NA by missing\n",
    "# X_train = cat_imputer_missing.transform(X_train)\n",
    "# X_test = cat_imputer_missing.transform(X_test)"
   ]
  },
  {
   "cell_type": "code",
   "execution_count": 43,
   "id": "47bc7aaf",
   "metadata": {},
   "outputs": [
    {
     "data": {
      "text/plain": [
       "{'job': 'admin.',\n",
       " 'marital': 'married',\n",
       " 'education': 'university.degree',\n",
       " 'housing': 'yes',\n",
       " 'loan': 'no'}"
      ]
     },
     "execution_count": 43,
     "metadata": {},
     "output_type": "execute_result"
    }
   ],
   "source": [
    "# replace missing values with most frequent category\n",
    "\n",
    "# set up the class\n",
    "cat_imputer_frequent = CategoricalImputer(\n",
    "    imputation_method='frequent', variables=with_frequent_category)\n",
    "\n",
    "# fit the class to the train set\n",
    "cat_imputer_frequent.fit(X_train)\n",
    "\n",
    "# the class learns and stores the parameters\n",
    "cat_imputer_frequent.imputer_dict_"
   ]
  },
  {
   "cell_type": "code",
   "execution_count": 44,
   "id": "14076791",
   "metadata": {},
   "outputs": [],
   "source": [
    "# replace NA by missing\n",
    "X_train = cat_imputer_frequent.transform(X_train)\n",
    "X_test = cat_imputer_frequent.transform(X_test)"
   ]
  },
  {
   "cell_type": "code",
   "execution_count": 45,
   "id": "7dd76d30",
   "metadata": {},
   "outputs": [
    {
     "data": {
      "text/plain": [
       "job          0\n",
       "marital      0\n",
       "education    0\n",
       "housing      0\n",
       "loan         0\n",
       "dtype: int64"
      ]
     },
     "execution_count": 45,
     "metadata": {},
     "output_type": "execute_result"
    }
   ],
   "source": [
    "# check that we have no missing information in the engineered variables\n",
    "\n",
    "X_train[cat_vars_with_na].isnull().sum()"
   ]
  },
  {
   "cell_type": "code",
   "execution_count": 46,
   "id": "32272a19",
   "metadata": {},
   "outputs": [
    {
     "data": {
      "text/plain": [
       "[]"
      ]
     },
     "execution_count": 46,
     "metadata": {},
     "output_type": "execute_result"
    }
   ],
   "source": [
    "# check that test set does not contain null values in the engineered variables\n",
    "\n",
    "[var for var in cat_vars_with_na if X_test[var].isnull().sum() > 0]"
   ]
  },
  {
   "cell_type": "markdown",
   "id": "a24aa49d",
   "metadata": {},
   "source": [
    "## Numerical variable transformation\n",
    "\n",
    "### Logarithmic transformation\n",
    "\n",
    "In the previous notebook, we observed that the numerical variables are not normally distributed.\n",
    "\n",
    "We will transform with the logarightm the \"age\" variable in order to get a more Gaussian-like distribution."
   ]
  },
  {
   "cell_type": "code",
   "execution_count": 47,
   "id": "8e14296d",
   "metadata": {},
   "outputs": [],
   "source": [
    "log_transformer = LogTransformer(\n",
    "    variables=[\"age\"])\n",
    "\n",
    "X_train = log_transformer.fit_transform(X_train)\n",
    "X_test = log_transformer.transform(X_test)"
   ]
  },
  {
   "cell_type": "markdown",
   "id": "83344b8c",
   "metadata": {},
   "source": [
    "### Yeo-Johnson transformation\n",
    "\n",
    "We will apply the Yeo-Johnson transformation to duration to obtain gaussian like distribution."
   ]
  },
  {
   "cell_type": "code",
   "execution_count": 48,
   "id": "c7d1572a",
   "metadata": {},
   "outputs": [],
   "source": [
    "# yeo_transformer = YeoJohnsonTransformer(\n",
    "#     variables=['duration'])\n",
    "\n",
    "# X_train = yeo_transformer.fit_transform(X_train)\n",
    "# X_test = yeo_transformer.transform(X_test)\n",
    "\n",
    "# # the learned parameter\n",
    "# yeo_transformer.lambda_dict_"
   ]
  },
  {
   "cell_type": "code",
   "execution_count": 49,
   "id": "2af7645a",
   "metadata": {},
   "outputs": [
    {
     "data": {
      "text/html": [
       "<div>\n",
       "<style scoped>\n",
       "    .dataframe tbody tr th:only-of-type {\n",
       "        vertical-align: middle;\n",
       "    }\n",
       "\n",
       "    .dataframe tbody tr th {\n",
       "        vertical-align: top;\n",
       "    }\n",
       "\n",
       "    .dataframe thead th {\n",
       "        text-align: right;\n",
       "    }\n",
       "</style>\n",
       "<table border=\"1\" class=\"dataframe\">\n",
       "  <thead>\n",
       "    <tr style=\"text-align: right;\">\n",
       "      <th></th>\n",
       "      <th>age</th>\n",
       "      <th>job</th>\n",
       "      <th>marital</th>\n",
       "      <th>education</th>\n",
       "      <th>housing</th>\n",
       "      <th>loan</th>\n",
       "      <th>contact</th>\n",
       "      <th>month</th>\n",
       "      <th>day_of_week</th>\n",
       "      <th>campaign</th>\n",
       "      <th>pdays</th>\n",
       "      <th>previous</th>\n",
       "      <th>poutcome</th>\n",
       "      <th>emp.var.rate</th>\n",
       "      <th>cons.price.idx</th>\n",
       "      <th>cons.conf.idx</th>\n",
       "      <th>euribor3m</th>\n",
       "      <th>nr.employed</th>\n",
       "    </tr>\n",
       "  </thead>\n",
       "  <tbody>\n",
       "    <tr>\n",
       "      <th>12348</th>\n",
       "      <td>3.367296</td>\n",
       "      <td>entrepreneur</td>\n",
       "      <td>married</td>\n",
       "      <td>basic.6y</td>\n",
       "      <td>yes</td>\n",
       "      <td>yes</td>\n",
       "      <td>telephone</td>\n",
       "      <td>jul</td>\n",
       "      <td>fri</td>\n",
       "      <td>3</td>\n",
       "      <td>999</td>\n",
       "      <td>0</td>\n",
       "      <td>nonexistent</td>\n",
       "      <td>1.4</td>\n",
       "      <td>93.918</td>\n",
       "      <td>-42.7</td>\n",
       "      <td>4.959</td>\n",
       "      <td>5228.1</td>\n",
       "    </tr>\n",
       "    <tr>\n",
       "      <th>8565</th>\n",
       "      <td>3.912023</td>\n",
       "      <td>admin.</td>\n",
       "      <td>single</td>\n",
       "      <td>university.degree</td>\n",
       "      <td>no</td>\n",
       "      <td>no</td>\n",
       "      <td>telephone</td>\n",
       "      <td>jun</td>\n",
       "      <td>wed</td>\n",
       "      <td>6</td>\n",
       "      <td>999</td>\n",
       "      <td>0</td>\n",
       "      <td>nonexistent</td>\n",
       "      <td>1.4</td>\n",
       "      <td>94.465</td>\n",
       "      <td>-41.8</td>\n",
       "      <td>4.864</td>\n",
       "      <td>5228.1</td>\n",
       "    </tr>\n",
       "    <tr>\n",
       "      <th>21424</th>\n",
       "      <td>3.367296</td>\n",
       "      <td>admin.</td>\n",
       "      <td>single</td>\n",
       "      <td>university.degree</td>\n",
       "      <td>no</td>\n",
       "      <td>no</td>\n",
       "      <td>cellular</td>\n",
       "      <td>aug</td>\n",
       "      <td>tue</td>\n",
       "      <td>4</td>\n",
       "      <td>999</td>\n",
       "      <td>0</td>\n",
       "      <td>nonexistent</td>\n",
       "      <td>1.4</td>\n",
       "      <td>93.444</td>\n",
       "      <td>-36.1</td>\n",
       "      <td>4.963</td>\n",
       "      <td>5228.1</td>\n",
       "    </tr>\n",
       "    <tr>\n",
       "      <th>3316</th>\n",
       "      <td>3.555348</td>\n",
       "      <td>admin.</td>\n",
       "      <td>single</td>\n",
       "      <td>university.degree</td>\n",
       "      <td>no</td>\n",
       "      <td>no</td>\n",
       "      <td>telephone</td>\n",
       "      <td>may</td>\n",
       "      <td>thu</td>\n",
       "      <td>1</td>\n",
       "      <td>999</td>\n",
       "      <td>0</td>\n",
       "      <td>nonexistent</td>\n",
       "      <td>1.1</td>\n",
       "      <td>93.994</td>\n",
       "      <td>-36.4</td>\n",
       "      <td>4.860</td>\n",
       "      <td>5191.0</td>\n",
       "    </tr>\n",
       "    <tr>\n",
       "      <th>33246</th>\n",
       "      <td>3.688879</td>\n",
       "      <td>blue-collar</td>\n",
       "      <td>single</td>\n",
       "      <td>high.school</td>\n",
       "      <td>no</td>\n",
       "      <td>no</td>\n",
       "      <td>cellular</td>\n",
       "      <td>may</td>\n",
       "      <td>tue</td>\n",
       "      <td>1</td>\n",
       "      <td>999</td>\n",
       "      <td>0</td>\n",
       "      <td>nonexistent</td>\n",
       "      <td>-1.8</td>\n",
       "      <td>92.893</td>\n",
       "      <td>-46.2</td>\n",
       "      <td>1.291</td>\n",
       "      <td>5099.1</td>\n",
       "    </tr>\n",
       "  </tbody>\n",
       "</table>\n",
       "</div>"
      ],
      "text/plain": [
       "            age           job  marital          education housing loan  \\\n",
       "12348  3.367296  entrepreneur  married           basic.6y     yes  yes   \n",
       "8565   3.912023        admin.   single  university.degree      no   no   \n",
       "21424  3.367296        admin.   single  university.degree      no   no   \n",
       "3316   3.555348        admin.   single  university.degree      no   no   \n",
       "33246  3.688879   blue-collar   single        high.school      no   no   \n",
       "\n",
       "         contact month day_of_week  campaign  pdays  previous     poutcome  \\\n",
       "12348  telephone   jul         fri         3    999         0  nonexistent   \n",
       "8565   telephone   jun         wed         6    999         0  nonexistent   \n",
       "21424   cellular   aug         tue         4    999         0  nonexistent   \n",
       "3316   telephone   may         thu         1    999         0  nonexistent   \n",
       "33246   cellular   may         tue         1    999         0  nonexistent   \n",
       "\n",
       "       emp.var.rate  cons.price.idx  cons.conf.idx  euribor3m  nr.employed  \n",
       "12348           1.4          93.918          -42.7      4.959       5228.1  \n",
       "8565            1.4          94.465          -41.8      4.864       5228.1  \n",
       "21424           1.4          93.444          -36.1      4.963       5228.1  \n",
       "3316            1.1          93.994          -36.4      4.860       5191.0  \n",
       "33246          -1.8          92.893          -46.2      1.291       5099.1  "
      ]
     },
     "execution_count": 49,
     "metadata": {},
     "output_type": "execute_result"
    }
   ],
   "source": [
    "X_train.head()"
   ]
  },
  {
   "cell_type": "markdown",
   "id": "66f8af0c",
   "metadata": {},
   "source": [
    "## Categorical feature encoding"
   ]
  },
  {
   "cell_type": "markdown",
   "id": "eecf52fa",
   "metadata": {},
   "source": [
    "### Replace Binary Features with 1 and 0"
   ]
  },
  {
   "cell_type": "code",
   "execution_count": 50,
   "id": "2d4e7eb1",
   "metadata": {},
   "outputs": [],
   "source": [
    "binary_features = ['housing', 'loan']"
   ]
  },
  {
   "cell_type": "code",
   "execution_count": 51,
   "id": "3e5b9b59",
   "metadata": {},
   "outputs": [],
   "source": [
    "for col in binary_features:\n",
    "    X_train[col] = X_train[col].replace([\"yes\"], 1)\n",
    "    X_train[col] = X_train[col].replace([\"no\"], 0)\n",
    "    X_test[col] = X_test[col].replace([\"yes\"], 1)\n",
    "    X_test[col] = X_test[col].replace([\"no\"], 0)"
   ]
  },
  {
   "cell_type": "code",
   "execution_count": 52,
   "id": "6f02250a",
   "metadata": {},
   "outputs": [
    {
     "name": "stdout",
     "output_type": "stream",
     "text": [
      "<class 'pandas.core.frame.DataFrame'>\n",
      "Int64Index: 32940 entries, 12348 to 15798\n",
      "Data columns (total 18 columns):\n",
      " #   Column          Non-Null Count  Dtype  \n",
      "---  ------          --------------  -----  \n",
      " 0   age             32940 non-null  float64\n",
      " 1   job             32940 non-null  object \n",
      " 2   marital         32940 non-null  object \n",
      " 3   education       32940 non-null  object \n",
      " 4   housing         32940 non-null  int64  \n",
      " 5   loan            32940 non-null  int64  \n",
      " 6   contact         32940 non-null  object \n",
      " 7   month           32940 non-null  object \n",
      " 8   day_of_week     32940 non-null  object \n",
      " 9   campaign        32940 non-null  int64  \n",
      " 10  pdays           32940 non-null  int64  \n",
      " 11  previous        32940 non-null  int64  \n",
      " 12  poutcome        32940 non-null  object \n",
      " 13  emp.var.rate    32940 non-null  float64\n",
      " 14  cons.price.idx  32940 non-null  float64\n",
      " 15  cons.conf.idx   32940 non-null  float64\n",
      " 16  euribor3m       32940 non-null  float64\n",
      " 17  nr.employed     32940 non-null  float64\n",
      "dtypes: float64(6), int64(5), object(7)\n",
      "memory usage: 4.8+ MB\n"
     ]
    }
   ],
   "source": [
    "X_train.info()"
   ]
  },
  {
   "cell_type": "code",
   "execution_count": 53,
   "id": "379e0fcd",
   "metadata": {},
   "outputs": [
    {
     "data": {
      "text/html": [
       "<div>\n",
       "<style scoped>\n",
       "    .dataframe tbody tr th:only-of-type {\n",
       "        vertical-align: middle;\n",
       "    }\n",
       "\n",
       "    .dataframe tbody tr th {\n",
       "        vertical-align: top;\n",
       "    }\n",
       "\n",
       "    .dataframe thead th {\n",
       "        text-align: right;\n",
       "    }\n",
       "</style>\n",
       "<table border=\"1\" class=\"dataframe\">\n",
       "  <thead>\n",
       "    <tr style=\"text-align: right;\">\n",
       "      <th></th>\n",
       "      <th>age</th>\n",
       "      <th>job</th>\n",
       "      <th>marital</th>\n",
       "      <th>education</th>\n",
       "      <th>housing</th>\n",
       "      <th>loan</th>\n",
       "      <th>contact</th>\n",
       "      <th>month</th>\n",
       "      <th>day_of_week</th>\n",
       "      <th>campaign</th>\n",
       "      <th>pdays</th>\n",
       "      <th>previous</th>\n",
       "      <th>poutcome</th>\n",
       "      <th>emp.var.rate</th>\n",
       "      <th>cons.price.idx</th>\n",
       "      <th>cons.conf.idx</th>\n",
       "      <th>euribor3m</th>\n",
       "      <th>nr.employed</th>\n",
       "    </tr>\n",
       "  </thead>\n",
       "  <tbody>\n",
       "    <tr>\n",
       "      <th>12348</th>\n",
       "      <td>3.367296</td>\n",
       "      <td>entrepreneur</td>\n",
       "      <td>married</td>\n",
       "      <td>4.0</td>\n",
       "      <td>1</td>\n",
       "      <td>1</td>\n",
       "      <td>telephone</td>\n",
       "      <td>jul</td>\n",
       "      <td>fri</td>\n",
       "      <td>3</td>\n",
       "      <td>999</td>\n",
       "      <td>0</td>\n",
       "      <td>nonexistent</td>\n",
       "      <td>1.4</td>\n",
       "      <td>93.918</td>\n",
       "      <td>-42.7</td>\n",
       "      <td>4.959</td>\n",
       "      <td>5228.1</td>\n",
       "    </tr>\n",
       "    <tr>\n",
       "      <th>8565</th>\n",
       "      <td>3.912023</td>\n",
       "      <td>admin.</td>\n",
       "      <td>single</td>\n",
       "      <td>1.0</td>\n",
       "      <td>0</td>\n",
       "      <td>0</td>\n",
       "      <td>telephone</td>\n",
       "      <td>jun</td>\n",
       "      <td>wed</td>\n",
       "      <td>6</td>\n",
       "      <td>999</td>\n",
       "      <td>0</td>\n",
       "      <td>nonexistent</td>\n",
       "      <td>1.4</td>\n",
       "      <td>94.465</td>\n",
       "      <td>-41.8</td>\n",
       "      <td>4.864</td>\n",
       "      <td>5228.1</td>\n",
       "    </tr>\n",
       "    <tr>\n",
       "      <th>21424</th>\n",
       "      <td>3.367296</td>\n",
       "      <td>admin.</td>\n",
       "      <td>single</td>\n",
       "      <td>1.0</td>\n",
       "      <td>0</td>\n",
       "      <td>0</td>\n",
       "      <td>cellular</td>\n",
       "      <td>aug</td>\n",
       "      <td>tue</td>\n",
       "      <td>4</td>\n",
       "      <td>999</td>\n",
       "      <td>0</td>\n",
       "      <td>nonexistent</td>\n",
       "      <td>1.4</td>\n",
       "      <td>93.444</td>\n",
       "      <td>-36.1</td>\n",
       "      <td>4.963</td>\n",
       "      <td>5228.1</td>\n",
       "    </tr>\n",
       "    <tr>\n",
       "      <th>3316</th>\n",
       "      <td>3.555348</td>\n",
       "      <td>admin.</td>\n",
       "      <td>single</td>\n",
       "      <td>1.0</td>\n",
       "      <td>0</td>\n",
       "      <td>0</td>\n",
       "      <td>telephone</td>\n",
       "      <td>may</td>\n",
       "      <td>thu</td>\n",
       "      <td>1</td>\n",
       "      <td>999</td>\n",
       "      <td>0</td>\n",
       "      <td>nonexistent</td>\n",
       "      <td>1.1</td>\n",
       "      <td>93.994</td>\n",
       "      <td>-36.4</td>\n",
       "      <td>4.860</td>\n",
       "      <td>5191.0</td>\n",
       "    </tr>\n",
       "    <tr>\n",
       "      <th>33246</th>\n",
       "      <td>3.688879</td>\n",
       "      <td>blue-collar</td>\n",
       "      <td>single</td>\n",
       "      <td>6.0</td>\n",
       "      <td>0</td>\n",
       "      <td>0</td>\n",
       "      <td>cellular</td>\n",
       "      <td>may</td>\n",
       "      <td>tue</td>\n",
       "      <td>1</td>\n",
       "      <td>999</td>\n",
       "      <td>0</td>\n",
       "      <td>nonexistent</td>\n",
       "      <td>-1.8</td>\n",
       "      <td>92.893</td>\n",
       "      <td>-46.2</td>\n",
       "      <td>1.291</td>\n",
       "      <td>5099.1</td>\n",
       "    </tr>\n",
       "  </tbody>\n",
       "</table>\n",
       "</div>"
      ],
      "text/plain": [
       "            age           job  marital  education  housing  loan    contact  \\\n",
       "12348  3.367296  entrepreneur  married        4.0        1     1  telephone   \n",
       "8565   3.912023        admin.   single        1.0        0     0  telephone   \n",
       "21424  3.367296        admin.   single        1.0        0     0   cellular   \n",
       "3316   3.555348        admin.   single        1.0        0     0  telephone   \n",
       "33246  3.688879   blue-collar   single        6.0        0     0   cellular   \n",
       "\n",
       "      month day_of_week  campaign  pdays  previous     poutcome  emp.var.rate  \\\n",
       "12348   jul         fri         3    999         0  nonexistent           1.4   \n",
       "8565    jun         wed         6    999         0  nonexistent           1.4   \n",
       "21424   aug         tue         4    999         0  nonexistent           1.4   \n",
       "3316    may         thu         1    999         0  nonexistent           1.1   \n",
       "33246   may         tue         1    999         0  nonexistent          -1.8   \n",
       "\n",
       "       cons.price.idx  cons.conf.idx  euribor3m  nr.employed  \n",
       "12348          93.918          -42.7      4.959       5228.1  \n",
       "8565           94.465          -41.8      4.864       5228.1  \n",
       "21424          93.444          -36.1      4.963       5228.1  \n",
       "3316           93.994          -36.4      4.860       5191.0  \n",
       "33246          92.893          -46.2      1.291       5099.1  "
      ]
     },
     "execution_count": 53,
     "metadata": {},
     "output_type": "execute_result"
    }
   ],
   "source": [
    "from sklearn.preprocessing import OrdinalEncoder\n",
    "ord_enc = OrdinalEncoder(categories = [['basic.9y', 'university.degree', 'illiterate', 'basic.4y', 'basic.6y', 'professional.course', 'high.school']])\n",
    "X_train.education = ord_enc.fit_transform(X_train.loc[:, [\"education\"]])\n",
    "X_test.education = ord_enc.transform(X_test.loc[:, [\"education\"]])\n",
    "X_train.head()"
   ]
  },
  {
   "cell_type": "code",
   "execution_count": 54,
   "id": "320b133d",
   "metadata": {},
   "outputs": [
    {
     "data": {
      "text/plain": [
       "12348    no\n",
       "8565     no\n",
       "21424    no\n",
       "3316     no\n",
       "33246    no\n",
       "         ..\n",
       "6266     no\n",
       "11285    no\n",
       "38169    no\n",
       "860      no\n",
       "15798    no\n",
       "Name: y, Length: 32940, dtype: object"
      ]
     },
     "execution_count": 54,
     "metadata": {},
     "output_type": "execute_result"
    }
   ],
   "source": [
    "y_train"
   ]
  },
  {
   "cell_type": "code",
   "execution_count": 55,
   "id": "8f85b332",
   "metadata": {
    "scrolled": true
   },
   "outputs": [
    {
     "data": {
      "text/html": [
       "<div>\n",
       "<style scoped>\n",
       "    .dataframe tbody tr th:only-of-type {\n",
       "        vertical-align: middle;\n",
       "    }\n",
       "\n",
       "    .dataframe tbody tr th {\n",
       "        vertical-align: top;\n",
       "    }\n",
       "\n",
       "    .dataframe thead th {\n",
       "        text-align: right;\n",
       "    }\n",
       "</style>\n",
       "<table border=\"1\" class=\"dataframe\">\n",
       "  <thead>\n",
       "    <tr style=\"text-align: right;\">\n",
       "      <th></th>\n",
       "      <th>age</th>\n",
       "      <th>job</th>\n",
       "      <th>marital</th>\n",
       "      <th>education</th>\n",
       "      <th>housing</th>\n",
       "      <th>loan</th>\n",
       "      <th>contact</th>\n",
       "      <th>month</th>\n",
       "      <th>day_of_week</th>\n",
       "      <th>campaign</th>\n",
       "      <th>pdays</th>\n",
       "      <th>previous</th>\n",
       "      <th>poutcome</th>\n",
       "      <th>emp.var.rate</th>\n",
       "      <th>cons.price.idx</th>\n",
       "      <th>cons.conf.idx</th>\n",
       "      <th>euribor3m</th>\n",
       "      <th>nr.employed</th>\n",
       "    </tr>\n",
       "  </thead>\n",
       "  <tbody>\n",
       "    <tr>\n",
       "      <th>36264</th>\n",
       "      <td>4.077537</td>\n",
       "      <td>retired</td>\n",
       "      <td>married</td>\n",
       "      <td>5.0</td>\n",
       "      <td>1</td>\n",
       "      <td>1</td>\n",
       "      <td>cellular</td>\n",
       "      <td>jun</td>\n",
       "      <td>mon</td>\n",
       "      <td>1</td>\n",
       "      <td>999</td>\n",
       "      <td>0</td>\n",
       "      <td>nonexistent</td>\n",
       "      <td>-2.9</td>\n",
       "      <td>92.963</td>\n",
       "      <td>-40.8</td>\n",
       "      <td>1.266</td>\n",
       "      <td>5076.2</td>\n",
       "    </tr>\n",
       "    <tr>\n",
       "      <th>32672</th>\n",
       "      <td>3.526361</td>\n",
       "      <td>blue-collar</td>\n",
       "      <td>married</td>\n",
       "      <td>0.0</td>\n",
       "      <td>0</td>\n",
       "      <td>0</td>\n",
       "      <td>cellular</td>\n",
       "      <td>may</td>\n",
       "      <td>mon</td>\n",
       "      <td>1</td>\n",
       "      <td>999</td>\n",
       "      <td>1</td>\n",
       "      <td>failure</td>\n",
       "      <td>-1.8</td>\n",
       "      <td>92.893</td>\n",
       "      <td>-46.2</td>\n",
       "      <td>1.299</td>\n",
       "      <td>5099.1</td>\n",
       "    </tr>\n",
       "    <tr>\n",
       "      <th>40872</th>\n",
       "      <td>3.465736</td>\n",
       "      <td>technician</td>\n",
       "      <td>married</td>\n",
       "      <td>5.0</td>\n",
       "      <td>1</td>\n",
       "      <td>0</td>\n",
       "      <td>cellular</td>\n",
       "      <td>oct</td>\n",
       "      <td>wed</td>\n",
       "      <td>2</td>\n",
       "      <td>999</td>\n",
       "      <td>0</td>\n",
       "      <td>nonexistent</td>\n",
       "      <td>-1.1</td>\n",
       "      <td>94.601</td>\n",
       "      <td>-49.5</td>\n",
       "      <td>0.959</td>\n",
       "      <td>4963.6</td>\n",
       "    </tr>\n",
       "    <tr>\n",
       "      <th>32907</th>\n",
       "      <td>3.970292</td>\n",
       "      <td>admin.</td>\n",
       "      <td>married</td>\n",
       "      <td>6.0</td>\n",
       "      <td>1</td>\n",
       "      <td>1</td>\n",
       "      <td>cellular</td>\n",
       "      <td>may</td>\n",
       "      <td>mon</td>\n",
       "      <td>2</td>\n",
       "      <td>999</td>\n",
       "      <td>1</td>\n",
       "      <td>failure</td>\n",
       "      <td>-1.8</td>\n",
       "      <td>92.893</td>\n",
       "      <td>-46.2</td>\n",
       "      <td>1.299</td>\n",
       "      <td>5099.1</td>\n",
       "    </tr>\n",
       "    <tr>\n",
       "      <th>16464</th>\n",
       "      <td>3.178054</td>\n",
       "      <td>services</td>\n",
       "      <td>single</td>\n",
       "      <td>0.0</td>\n",
       "      <td>1</td>\n",
       "      <td>0</td>\n",
       "      <td>telephone</td>\n",
       "      <td>jul</td>\n",
       "      <td>wed</td>\n",
       "      <td>1</td>\n",
       "      <td>999</td>\n",
       "      <td>0</td>\n",
       "      <td>nonexistent</td>\n",
       "      <td>1.4</td>\n",
       "      <td>93.918</td>\n",
       "      <td>-42.7</td>\n",
       "      <td>4.963</td>\n",
       "      <td>5228.1</td>\n",
       "    </tr>\n",
       "  </tbody>\n",
       "</table>\n",
       "</div>"
      ],
      "text/plain": [
       "            age          job  marital  education  housing  loan    contact  \\\n",
       "36264  4.077537      retired  married        5.0        1     1   cellular   \n",
       "32672  3.526361  blue-collar  married        0.0        0     0   cellular   \n",
       "40872  3.465736   technician  married        5.0        1     0   cellular   \n",
       "32907  3.970292       admin.  married        6.0        1     1   cellular   \n",
       "16464  3.178054     services   single        0.0        1     0  telephone   \n",
       "\n",
       "      month day_of_week  campaign  pdays  previous     poutcome  emp.var.rate  \\\n",
       "36264   jun         mon         1    999         0  nonexistent          -2.9   \n",
       "32672   may         mon         1    999         1      failure          -1.8   \n",
       "40872   oct         wed         2    999         0  nonexistent          -1.1   \n",
       "32907   may         mon         2    999         1      failure          -1.8   \n",
       "16464   jul         wed         1    999         0  nonexistent           1.4   \n",
       "\n",
       "       cons.price.idx  cons.conf.idx  euribor3m  nr.employed  \n",
       "36264          92.963          -40.8      1.266       5076.2  \n",
       "32672          92.893          -46.2      1.299       5099.1  \n",
       "40872          94.601          -49.5      0.959       4963.6  \n",
       "32907          92.893          -46.2      1.299       5099.1  \n",
       "16464          93.918          -42.7      4.963       5228.1  "
      ]
     },
     "execution_count": 55,
     "metadata": {},
     "output_type": "execute_result"
    }
   ],
   "source": [
    "X_test.head()"
   ]
  },
  {
   "cell_type": "code",
   "execution_count": 56,
   "id": "86bc80ee",
   "metadata": {},
   "outputs": [],
   "source": [
    "le=LabelEncoder()\n",
    "y_train = y_train.to_frame()\n",
    "y_test = y_test.to_frame()\n",
    "y_train[\"y\"]=le.fit_transform(y_train[\"y\"])\n",
    "y_test[\"y\"] = le.transform(y_test[\"y\"])"
   ]
  },
  {
   "cell_type": "code",
   "execution_count": 57,
   "id": "1bfcf06c",
   "metadata": {},
   "outputs": [
    {
     "name": "stdout",
     "output_type": "stream",
     "text": [
      "<class 'pandas.core.frame.DataFrame'>\n",
      "Int64Index: 32940 entries, 12348 to 15798\n",
      "Data columns (total 18 columns):\n",
      " #   Column          Non-Null Count  Dtype  \n",
      "---  ------          --------------  -----  \n",
      " 0   age             32940 non-null  float64\n",
      " 1   job             32940 non-null  object \n",
      " 2   marital         32940 non-null  object \n",
      " 3   education       32940 non-null  float64\n",
      " 4   housing         32940 non-null  int64  \n",
      " 5   loan            32940 non-null  int64  \n",
      " 6   contact         32940 non-null  object \n",
      " 7   month           32940 non-null  object \n",
      " 8   day_of_week     32940 non-null  object \n",
      " 9   campaign        32940 non-null  int64  \n",
      " 10  pdays           32940 non-null  int64  \n",
      " 11  previous        32940 non-null  int64  \n",
      " 12  poutcome        32940 non-null  object \n",
      " 13  emp.var.rate    32940 non-null  float64\n",
      " 14  cons.price.idx  32940 non-null  float64\n",
      " 15  cons.conf.idx   32940 non-null  float64\n",
      " 16  euribor3m       32940 non-null  float64\n",
      " 17  nr.employed     32940 non-null  float64\n",
      "dtypes: float64(7), int64(5), object(6)\n",
      "memory usage: 4.8+ MB\n"
     ]
    }
   ],
   "source": [
    "X_train.info()"
   ]
  },
  {
   "cell_type": "code",
   "execution_count": 58,
   "id": "8986aacc",
   "metadata": {},
   "outputs": [
    {
     "name": "stdout",
     "output_type": "stream",
     "text": [
      "<class 'pandas.core.frame.DataFrame'>\n",
      "Int64Index: 8236 entries, 36264 to 12339\n",
      "Data columns (total 18 columns):\n",
      " #   Column          Non-Null Count  Dtype  \n",
      "---  ------          --------------  -----  \n",
      " 0   age             8236 non-null   float64\n",
      " 1   job             8236 non-null   object \n",
      " 2   marital         8236 non-null   object \n",
      " 3   education       8236 non-null   float64\n",
      " 4   housing         8236 non-null   int64  \n",
      " 5   loan            8236 non-null   int64  \n",
      " 6   contact         8236 non-null   object \n",
      " 7   month           8236 non-null   object \n",
      " 8   day_of_week     8236 non-null   object \n",
      " 9   campaign        8236 non-null   int64  \n",
      " 10  pdays           8236 non-null   int64  \n",
      " 11  previous        8236 non-null   int64  \n",
      " 12  poutcome        8236 non-null   object \n",
      " 13  emp.var.rate    8236 non-null   float64\n",
      " 14  cons.price.idx  8236 non-null   float64\n",
      " 15  cons.conf.idx   8236 non-null   float64\n",
      " 16  euribor3m       8236 non-null   float64\n",
      " 17  nr.employed     8236 non-null   float64\n",
      "dtypes: float64(7), int64(5), object(6)\n",
      "memory usage: 1.2+ MB\n"
     ]
    }
   ],
   "source": [
    "X_test.info()"
   ]
  },
  {
   "cell_type": "code",
   "execution_count": 59,
   "id": "1b906112",
   "metadata": {},
   "outputs": [],
   "source": [
    "cols_to_encode_Xtrain = X_train.select_dtypes(include=\"object\")"
   ]
  },
  {
   "cell_type": "code",
   "execution_count": 60,
   "id": "a2144db2",
   "metadata": {},
   "outputs": [],
   "source": [
    "cols_to_encode_Xtest = X_test.select_dtypes(include=\"object\")"
   ]
  },
  {
   "cell_type": "code",
   "execution_count": 61,
   "id": "e07ddea5",
   "metadata": {},
   "outputs": [],
   "source": [
    "#select the variables to encode first\n",
    "\n",
    "for col in cols_to_encode_Xtrain:\n",
    "  X_train = pd.concat([X_train, pd.get_dummies(X_train[col], prefix=\"%s\"%col)], axis=1)\n",
    "  X_train.drop([col], axis=1, inplace=True)\n",
    "\n",
    "for col in cols_to_encode_Xtest:\n",
    "  X_test = pd.concat([X_test, pd.get_dummies(X_test[col], prefix=\"%s\"%col)], axis=1)\n",
    "  X_test.drop([col], axis=1, inplace=True)"
   ]
  },
  {
   "cell_type": "code",
   "execution_count": 62,
   "id": "ea8f95da",
   "metadata": {},
   "outputs": [
    {
     "name": "stdout",
     "output_type": "stream",
     "text": [
      "<class 'pandas.core.frame.DataFrame'>\n",
      "Int64Index: 32940 entries, 12348 to 15798\n",
      "Data columns (total 46 columns):\n",
      " #   Column                Non-Null Count  Dtype  \n",
      "---  ------                --------------  -----  \n",
      " 0   age                   32940 non-null  float64\n",
      " 1   education             32940 non-null  float64\n",
      " 2   housing               32940 non-null  int64  \n",
      " 3   loan                  32940 non-null  int64  \n",
      " 4   campaign              32940 non-null  int64  \n",
      " 5   pdays                 32940 non-null  int64  \n",
      " 6   previous              32940 non-null  int64  \n",
      " 7   emp.var.rate          32940 non-null  float64\n",
      " 8   cons.price.idx        32940 non-null  float64\n",
      " 9   cons.conf.idx         32940 non-null  float64\n",
      " 10  euribor3m             32940 non-null  float64\n",
      " 11  nr.employed           32940 non-null  float64\n",
      " 12  job_admin.            32940 non-null  uint8  \n",
      " 13  job_blue-collar       32940 non-null  uint8  \n",
      " 14  job_entrepreneur      32940 non-null  uint8  \n",
      " 15  job_housemaid         32940 non-null  uint8  \n",
      " 16  job_management        32940 non-null  uint8  \n",
      " 17  job_retired           32940 non-null  uint8  \n",
      " 18  job_self-employed     32940 non-null  uint8  \n",
      " 19  job_services          32940 non-null  uint8  \n",
      " 20  job_student           32940 non-null  uint8  \n",
      " 21  job_technician        32940 non-null  uint8  \n",
      " 22  job_unemployed        32940 non-null  uint8  \n",
      " 23  marital_divorced      32940 non-null  uint8  \n",
      " 24  marital_married       32940 non-null  uint8  \n",
      " 25  marital_single        32940 non-null  uint8  \n",
      " 26  contact_cellular      32940 non-null  uint8  \n",
      " 27  contact_telephone     32940 non-null  uint8  \n",
      " 28  month_apr             32940 non-null  uint8  \n",
      " 29  month_aug             32940 non-null  uint8  \n",
      " 30  month_dec             32940 non-null  uint8  \n",
      " 31  month_jul             32940 non-null  uint8  \n",
      " 32  month_jun             32940 non-null  uint8  \n",
      " 33  month_mar             32940 non-null  uint8  \n",
      " 34  month_may             32940 non-null  uint8  \n",
      " 35  month_nov             32940 non-null  uint8  \n",
      " 36  month_oct             32940 non-null  uint8  \n",
      " 37  month_sep             32940 non-null  uint8  \n",
      " 38  day_of_week_fri       32940 non-null  uint8  \n",
      " 39  day_of_week_mon       32940 non-null  uint8  \n",
      " 40  day_of_week_thu       32940 non-null  uint8  \n",
      " 41  day_of_week_tue       32940 non-null  uint8  \n",
      " 42  day_of_week_wed       32940 non-null  uint8  \n",
      " 43  poutcome_failure      32940 non-null  uint8  \n",
      " 44  poutcome_nonexistent  32940 non-null  uint8  \n",
      " 45  poutcome_success      32940 non-null  uint8  \n",
      "dtypes: float64(7), int64(5), uint8(34)\n",
      "memory usage: 4.3 MB\n"
     ]
    }
   ],
   "source": [
    "X_train.info()"
   ]
  },
  {
   "cell_type": "code",
   "execution_count": 63,
   "id": "e6cd408e",
   "metadata": {},
   "outputs": [
    {
     "name": "stdout",
     "output_type": "stream",
     "text": [
      "<class 'pandas.core.frame.DataFrame'>\n",
      "Int64Index: 8236 entries, 36264 to 12339\n",
      "Data columns (total 46 columns):\n",
      " #   Column                Non-Null Count  Dtype  \n",
      "---  ------                --------------  -----  \n",
      " 0   age                   8236 non-null   float64\n",
      " 1   education             8236 non-null   float64\n",
      " 2   housing               8236 non-null   int64  \n",
      " 3   loan                  8236 non-null   int64  \n",
      " 4   campaign              8236 non-null   int64  \n",
      " 5   pdays                 8236 non-null   int64  \n",
      " 6   previous              8236 non-null   int64  \n",
      " 7   emp.var.rate          8236 non-null   float64\n",
      " 8   cons.price.idx        8236 non-null   float64\n",
      " 9   cons.conf.idx         8236 non-null   float64\n",
      " 10  euribor3m             8236 non-null   float64\n",
      " 11  nr.employed           8236 non-null   float64\n",
      " 12  job_admin.            8236 non-null   uint8  \n",
      " 13  job_blue-collar       8236 non-null   uint8  \n",
      " 14  job_entrepreneur      8236 non-null   uint8  \n",
      " 15  job_housemaid         8236 non-null   uint8  \n",
      " 16  job_management        8236 non-null   uint8  \n",
      " 17  job_retired           8236 non-null   uint8  \n",
      " 18  job_self-employed     8236 non-null   uint8  \n",
      " 19  job_services          8236 non-null   uint8  \n",
      " 20  job_student           8236 non-null   uint8  \n",
      " 21  job_technician        8236 non-null   uint8  \n",
      " 22  job_unemployed        8236 non-null   uint8  \n",
      " 23  marital_divorced      8236 non-null   uint8  \n",
      " 24  marital_married       8236 non-null   uint8  \n",
      " 25  marital_single        8236 non-null   uint8  \n",
      " 26  contact_cellular      8236 non-null   uint8  \n",
      " 27  contact_telephone     8236 non-null   uint8  \n",
      " 28  month_apr             8236 non-null   uint8  \n",
      " 29  month_aug             8236 non-null   uint8  \n",
      " 30  month_dec             8236 non-null   uint8  \n",
      " 31  month_jul             8236 non-null   uint8  \n",
      " 32  month_jun             8236 non-null   uint8  \n",
      " 33  month_mar             8236 non-null   uint8  \n",
      " 34  month_may             8236 non-null   uint8  \n",
      " 35  month_nov             8236 non-null   uint8  \n",
      " 36  month_oct             8236 non-null   uint8  \n",
      " 37  month_sep             8236 non-null   uint8  \n",
      " 38  day_of_week_fri       8236 non-null   uint8  \n",
      " 39  day_of_week_mon       8236 non-null   uint8  \n",
      " 40  day_of_week_thu       8236 non-null   uint8  \n",
      " 41  day_of_week_tue       8236 non-null   uint8  \n",
      " 42  day_of_week_wed       8236 non-null   uint8  \n",
      " 43  poutcome_failure      8236 non-null   uint8  \n",
      " 44  poutcome_nonexistent  8236 non-null   uint8  \n",
      " 45  poutcome_success      8236 non-null   uint8  \n",
      "dtypes: float64(7), int64(5), uint8(34)\n",
      "memory usage: 1.1 MB\n"
     ]
    }
   ],
   "source": [
    "X_test.info()"
   ]
  },
  {
   "cell_type": "code",
   "execution_count": 64,
   "id": "fcbc42fc",
   "metadata": {},
   "outputs": [
    {
     "data": {
      "text/html": [
       "<div>\n",
       "<style scoped>\n",
       "    .dataframe tbody tr th:only-of-type {\n",
       "        vertical-align: middle;\n",
       "    }\n",
       "\n",
       "    .dataframe tbody tr th {\n",
       "        vertical-align: top;\n",
       "    }\n",
       "\n",
       "    .dataframe thead th {\n",
       "        text-align: right;\n",
       "    }\n",
       "</style>\n",
       "<table border=\"1\" class=\"dataframe\">\n",
       "  <thead>\n",
       "    <tr style=\"text-align: right;\">\n",
       "      <th></th>\n",
       "      <th>y</th>\n",
       "    </tr>\n",
       "  </thead>\n",
       "  <tbody>\n",
       "    <tr>\n",
       "      <th>12348</th>\n",
       "      <td>0</td>\n",
       "    </tr>\n",
       "    <tr>\n",
       "      <th>8565</th>\n",
       "      <td>0</td>\n",
       "    </tr>\n",
       "    <tr>\n",
       "      <th>21424</th>\n",
       "      <td>0</td>\n",
       "    </tr>\n",
       "    <tr>\n",
       "      <th>3316</th>\n",
       "      <td>0</td>\n",
       "    </tr>\n",
       "    <tr>\n",
       "      <th>33246</th>\n",
       "      <td>0</td>\n",
       "    </tr>\n",
       "  </tbody>\n",
       "</table>\n",
       "</div>"
      ],
      "text/plain": [
       "       y\n",
       "12348  0\n",
       "8565   0\n",
       "21424  0\n",
       "3316   0\n",
       "33246  0"
      ]
     },
     "execution_count": 64,
     "metadata": {},
     "output_type": "execute_result"
    }
   ],
   "source": [
    "y_train.head()"
   ]
  },
  {
   "cell_type": "code",
   "execution_count": 65,
   "id": "ee9fdb2f",
   "metadata": {},
   "outputs": [
    {
     "data": {
      "text/html": [
       "<div>\n",
       "<style scoped>\n",
       "    .dataframe tbody tr th:only-of-type {\n",
       "        vertical-align: middle;\n",
       "    }\n",
       "\n",
       "    .dataframe tbody tr th {\n",
       "        vertical-align: top;\n",
       "    }\n",
       "\n",
       "    .dataframe thead th {\n",
       "        text-align: right;\n",
       "    }\n",
       "</style>\n",
       "<table border=\"1\" class=\"dataframe\">\n",
       "  <thead>\n",
       "    <tr style=\"text-align: right;\">\n",
       "      <th></th>\n",
       "      <th>y</th>\n",
       "    </tr>\n",
       "  </thead>\n",
       "  <tbody>\n",
       "    <tr>\n",
       "      <th>36264</th>\n",
       "      <td>1</td>\n",
       "    </tr>\n",
       "    <tr>\n",
       "      <th>32672</th>\n",
       "      <td>0</td>\n",
       "    </tr>\n",
       "    <tr>\n",
       "      <th>40872</th>\n",
       "      <td>1</td>\n",
       "    </tr>\n",
       "    <tr>\n",
       "      <th>32907</th>\n",
       "      <td>0</td>\n",
       "    </tr>\n",
       "    <tr>\n",
       "      <th>16464</th>\n",
       "      <td>0</td>\n",
       "    </tr>\n",
       "  </tbody>\n",
       "</table>\n",
       "</div>"
      ],
      "text/plain": [
       "       y\n",
       "36264  1\n",
       "32672  0\n",
       "40872  1\n",
       "32907  0\n",
       "16464  0"
      ]
     },
     "execution_count": 65,
     "metadata": {},
     "output_type": "execute_result"
    }
   ],
   "source": [
    "y_test.head()"
   ]
  },
  {
   "cell_type": "markdown",
   "id": "8241f11f",
   "metadata": {},
   "source": [
    "### Resample"
   ]
  },
  {
   "cell_type": "code",
   "execution_count": 66,
   "id": "80dee5fd",
   "metadata": {},
   "outputs": [
    {
     "name": "stdout",
     "output_type": "stream",
     "text": [
      "X_train_over shape: (58544, 46)\n"
     ]
    },
    {
     "data": {
      "text/html": [
       "<div>\n",
       "<style scoped>\n",
       "    .dataframe tbody tr th:only-of-type {\n",
       "        vertical-align: middle;\n",
       "    }\n",
       "\n",
       "    .dataframe tbody tr th {\n",
       "        vertical-align: top;\n",
       "    }\n",
       "\n",
       "    .dataframe thead th {\n",
       "        text-align: right;\n",
       "    }\n",
       "</style>\n",
       "<table border=\"1\" class=\"dataframe\">\n",
       "  <thead>\n",
       "    <tr style=\"text-align: right;\">\n",
       "      <th></th>\n",
       "      <th>age</th>\n",
       "      <th>education</th>\n",
       "      <th>housing</th>\n",
       "      <th>loan</th>\n",
       "      <th>campaign</th>\n",
       "      <th>pdays</th>\n",
       "      <th>previous</th>\n",
       "      <th>emp.var.rate</th>\n",
       "      <th>cons.price.idx</th>\n",
       "      <th>cons.conf.idx</th>\n",
       "      <th>...</th>\n",
       "      <th>month_oct</th>\n",
       "      <th>month_sep</th>\n",
       "      <th>day_of_week_fri</th>\n",
       "      <th>day_of_week_mon</th>\n",
       "      <th>day_of_week_thu</th>\n",
       "      <th>day_of_week_tue</th>\n",
       "      <th>day_of_week_wed</th>\n",
       "      <th>poutcome_failure</th>\n",
       "      <th>poutcome_nonexistent</th>\n",
       "      <th>poutcome_success</th>\n",
       "    </tr>\n",
       "  </thead>\n",
       "  <tbody>\n",
       "    <tr>\n",
       "      <th>0</th>\n",
       "      <td>3.367296</td>\n",
       "      <td>4.0</td>\n",
       "      <td>1</td>\n",
       "      <td>1</td>\n",
       "      <td>3</td>\n",
       "      <td>999</td>\n",
       "      <td>0</td>\n",
       "      <td>1.4</td>\n",
       "      <td>93.918</td>\n",
       "      <td>-42.7</td>\n",
       "      <td>...</td>\n",
       "      <td>0</td>\n",
       "      <td>0</td>\n",
       "      <td>1</td>\n",
       "      <td>0</td>\n",
       "      <td>0</td>\n",
       "      <td>0</td>\n",
       "      <td>0</td>\n",
       "      <td>0</td>\n",
       "      <td>1</td>\n",
       "      <td>0</td>\n",
       "    </tr>\n",
       "    <tr>\n",
       "      <th>1</th>\n",
       "      <td>3.912023</td>\n",
       "      <td>1.0</td>\n",
       "      <td>0</td>\n",
       "      <td>0</td>\n",
       "      <td>6</td>\n",
       "      <td>999</td>\n",
       "      <td>0</td>\n",
       "      <td>1.4</td>\n",
       "      <td>94.465</td>\n",
       "      <td>-41.8</td>\n",
       "      <td>...</td>\n",
       "      <td>0</td>\n",
       "      <td>0</td>\n",
       "      <td>0</td>\n",
       "      <td>0</td>\n",
       "      <td>0</td>\n",
       "      <td>0</td>\n",
       "      <td>1</td>\n",
       "      <td>0</td>\n",
       "      <td>1</td>\n",
       "      <td>0</td>\n",
       "    </tr>\n",
       "    <tr>\n",
       "      <th>2</th>\n",
       "      <td>3.367296</td>\n",
       "      <td>1.0</td>\n",
       "      <td>0</td>\n",
       "      <td>0</td>\n",
       "      <td>4</td>\n",
       "      <td>999</td>\n",
       "      <td>0</td>\n",
       "      <td>1.4</td>\n",
       "      <td>93.444</td>\n",
       "      <td>-36.1</td>\n",
       "      <td>...</td>\n",
       "      <td>0</td>\n",
       "      <td>0</td>\n",
       "      <td>0</td>\n",
       "      <td>0</td>\n",
       "      <td>0</td>\n",
       "      <td>1</td>\n",
       "      <td>0</td>\n",
       "      <td>0</td>\n",
       "      <td>1</td>\n",
       "      <td>0</td>\n",
       "    </tr>\n",
       "    <tr>\n",
       "      <th>3</th>\n",
       "      <td>3.555348</td>\n",
       "      <td>1.0</td>\n",
       "      <td>0</td>\n",
       "      <td>0</td>\n",
       "      <td>1</td>\n",
       "      <td>999</td>\n",
       "      <td>0</td>\n",
       "      <td>1.1</td>\n",
       "      <td>93.994</td>\n",
       "      <td>-36.4</td>\n",
       "      <td>...</td>\n",
       "      <td>0</td>\n",
       "      <td>0</td>\n",
       "      <td>0</td>\n",
       "      <td>0</td>\n",
       "      <td>1</td>\n",
       "      <td>0</td>\n",
       "      <td>0</td>\n",
       "      <td>0</td>\n",
       "      <td>1</td>\n",
       "      <td>0</td>\n",
       "    </tr>\n",
       "    <tr>\n",
       "      <th>4</th>\n",
       "      <td>3.688879</td>\n",
       "      <td>6.0</td>\n",
       "      <td>0</td>\n",
       "      <td>0</td>\n",
       "      <td>1</td>\n",
       "      <td>999</td>\n",
       "      <td>0</td>\n",
       "      <td>-1.8</td>\n",
       "      <td>92.893</td>\n",
       "      <td>-46.2</td>\n",
       "      <td>...</td>\n",
       "      <td>0</td>\n",
       "      <td>0</td>\n",
       "      <td>0</td>\n",
       "      <td>0</td>\n",
       "      <td>0</td>\n",
       "      <td>1</td>\n",
       "      <td>0</td>\n",
       "      <td>0</td>\n",
       "      <td>1</td>\n",
       "      <td>0</td>\n",
       "    </tr>\n",
       "  </tbody>\n",
       "</table>\n",
       "<p>5 rows × 46 columns</p>\n",
       "</div>"
      ],
      "text/plain": [
       "        age  education  housing  loan  campaign  pdays  previous  \\\n",
       "0  3.367296        4.0        1     1         3    999         0   \n",
       "1  3.912023        1.0        0     0         6    999         0   \n",
       "2  3.367296        1.0        0     0         4    999         0   \n",
       "3  3.555348        1.0        0     0         1    999         0   \n",
       "4  3.688879        6.0        0     0         1    999         0   \n",
       "\n",
       "   emp.var.rate  cons.price.idx  cons.conf.idx  ...  month_oct  month_sep  \\\n",
       "0           1.4          93.918          -42.7  ...          0          0   \n",
       "1           1.4          94.465          -41.8  ...          0          0   \n",
       "2           1.4          93.444          -36.1  ...          0          0   \n",
       "3           1.1          93.994          -36.4  ...          0          0   \n",
       "4          -1.8          92.893          -46.2  ...          0          0   \n",
       "\n",
       "   day_of_week_fri  day_of_week_mon  day_of_week_thu  day_of_week_tue  \\\n",
       "0                1                0                0                0   \n",
       "1                0                0                0                0   \n",
       "2                0                0                0                1   \n",
       "3                0                0                1                0   \n",
       "4                0                0                0                1   \n",
       "\n",
       "   day_of_week_wed  poutcome_failure  poutcome_nonexistent  poutcome_success  \n",
       "0                0                 0                     1                 0  \n",
       "1                1                 0                     1                 0  \n",
       "2                0                 0                     1                 0  \n",
       "3                0                 0                     1                 0  \n",
       "4                0                 0                     1                 0  \n",
       "\n",
       "[5 rows x 46 columns]"
      ]
     },
     "execution_count": 66,
     "metadata": {},
     "output_type": "execute_result"
    }
   ],
   "source": [
    "over_sampler = RandomOverSampler(random_state=42)\n",
    "X_train_over, y_train_over = over_sampler.fit_resample(X_train,y_train)\n",
    "print(\"X_train_over shape:\", X_train_over.shape)\n",
    "X_train_over.head()"
   ]
  },
  {
   "cell_type": "markdown",
   "id": "3daf5d3c",
   "metadata": {},
   "source": [
    "## Build Model"
   ]
  },
  {
   "cell_type": "code",
   "execution_count": 67,
   "id": "bc821e64",
   "metadata": {},
   "outputs": [
    {
     "name": "stdout",
     "output_type": "stream",
     "text": [
      "Baseline Accuracy: 0.8886\n"
     ]
    }
   ],
   "source": [
    "acc_baseline = y_train.value_counts(normalize=True).max()\n",
    "print(\"Baseline Accuracy:\", round(acc_baseline, 4))"
   ]
  },
  {
   "cell_type": "code",
   "execution_count": 68,
   "id": "602f9664",
   "metadata": {},
   "outputs": [
    {
     "name": "stdout",
     "output_type": "stream",
     "text": [
      "Pipeline(steps=[('randomforestclassifier',\n",
      "                 RandomForestClassifier(random_state=42))])\n"
     ]
    }
   ],
   "source": [
    "clf = make_pipeline(\n",
    "    RandomForestClassifier(random_state=42)\n",
    ")\n",
    "print(clf)"
   ]
  },
  {
   "cell_type": "code",
   "execution_count": 69,
   "id": "93ed9c50",
   "metadata": {},
   "outputs": [
    {
     "name": "stdout",
     "output_type": "stream",
     "text": [
      "[0.96541122 0.96267828 0.96592365 0.96430097 0.96216262]\n"
     ]
    }
   ],
   "source": [
    "cv_acc_scores = cross_val_score(clf, X_train_over, y_train_over, cv=5, n_jobs=-1)\n",
    "print(cv_acc_scores)"
   ]
  },
  {
   "cell_type": "code",
   "execution_count": 70,
   "id": "cf8e27a0",
   "metadata": {},
   "outputs": [
    {
     "data": {
      "text/plain": [
       "{'randomforestclassifier__n_estimators': range(25, 100, 25),\n",
       " 'randomforestclassifier__max_depth': range(10, 50, 10)}"
      ]
     },
     "execution_count": 70,
     "metadata": {},
     "output_type": "execute_result"
    }
   ],
   "source": [
    "params = {\n",
    "    \"randomforestclassifier__n_estimators\": range(25,100,25),\n",
    "    \"randomforestclassifier__max_depth\": range(10,50,10),\n",
    "\n",
    "}\n",
    "params"
   ]
  },
  {
   "cell_type": "code",
   "execution_count": 71,
   "id": "b5f60cbf",
   "metadata": {},
   "outputs": [
    {
     "data": {
      "text/html": [
       "<style>#sk-container-id-1 {color: black;background-color: white;}#sk-container-id-1 pre{padding: 0;}#sk-container-id-1 div.sk-toggleable {background-color: white;}#sk-container-id-1 label.sk-toggleable__label {cursor: pointer;display: block;width: 100%;margin-bottom: 0;padding: 0.3em;box-sizing: border-box;text-align: center;}#sk-container-id-1 label.sk-toggleable__label-arrow:before {content: \"▸\";float: left;margin-right: 0.25em;color: #696969;}#sk-container-id-1 label.sk-toggleable__label-arrow:hover:before {color: black;}#sk-container-id-1 div.sk-estimator:hover label.sk-toggleable__label-arrow:before {color: black;}#sk-container-id-1 div.sk-toggleable__content {max-height: 0;max-width: 0;overflow: hidden;text-align: left;background-color: #f0f8ff;}#sk-container-id-1 div.sk-toggleable__content pre {margin: 0.2em;color: black;border-radius: 0.25em;background-color: #f0f8ff;}#sk-container-id-1 input.sk-toggleable__control:checked~div.sk-toggleable__content {max-height: 200px;max-width: 100%;overflow: auto;}#sk-container-id-1 input.sk-toggleable__control:checked~label.sk-toggleable__label-arrow:before {content: \"▾\";}#sk-container-id-1 div.sk-estimator input.sk-toggleable__control:checked~label.sk-toggleable__label {background-color: #d4ebff;}#sk-container-id-1 div.sk-label input.sk-toggleable__control:checked~label.sk-toggleable__label {background-color: #d4ebff;}#sk-container-id-1 input.sk-hidden--visually {border: 0;clip: rect(1px 1px 1px 1px);clip: rect(1px, 1px, 1px, 1px);height: 1px;margin: -1px;overflow: hidden;padding: 0;position: absolute;width: 1px;}#sk-container-id-1 div.sk-estimator {font-family: monospace;background-color: #f0f8ff;border: 1px dotted black;border-radius: 0.25em;box-sizing: border-box;margin-bottom: 0.5em;}#sk-container-id-1 div.sk-estimator:hover {background-color: #d4ebff;}#sk-container-id-1 div.sk-parallel-item::after {content: \"\";width: 100%;border-bottom: 1px solid gray;flex-grow: 1;}#sk-container-id-1 div.sk-label:hover label.sk-toggleable__label {background-color: #d4ebff;}#sk-container-id-1 div.sk-serial::before {content: \"\";position: absolute;border-left: 1px solid gray;box-sizing: border-box;top: 0;bottom: 0;left: 50%;z-index: 0;}#sk-container-id-1 div.sk-serial {display: flex;flex-direction: column;align-items: center;background-color: white;padding-right: 0.2em;padding-left: 0.2em;position: relative;}#sk-container-id-1 div.sk-item {position: relative;z-index: 1;}#sk-container-id-1 div.sk-parallel {display: flex;align-items: stretch;justify-content: center;background-color: white;position: relative;}#sk-container-id-1 div.sk-item::before, #sk-container-id-1 div.sk-parallel-item::before {content: \"\";position: absolute;border-left: 1px solid gray;box-sizing: border-box;top: 0;bottom: 0;left: 50%;z-index: -1;}#sk-container-id-1 div.sk-parallel-item {display: flex;flex-direction: column;z-index: 1;position: relative;background-color: white;}#sk-container-id-1 div.sk-parallel-item:first-child::after {align-self: flex-end;width: 50%;}#sk-container-id-1 div.sk-parallel-item:last-child::after {align-self: flex-start;width: 50%;}#sk-container-id-1 div.sk-parallel-item:only-child::after {width: 0;}#sk-container-id-1 div.sk-dashed-wrapped {border: 1px dashed gray;margin: 0 0.4em 0.5em 0.4em;box-sizing: border-box;padding-bottom: 0.4em;background-color: white;}#sk-container-id-1 div.sk-label label {font-family: monospace;font-weight: bold;display: inline-block;line-height: 1.2em;}#sk-container-id-1 div.sk-label-container {text-align: center;}#sk-container-id-1 div.sk-container {/* jupyter's `normalize.less` sets `[hidden] { display: none; }` but bootstrap.min.css set `[hidden] { display: none !important; }` so we also need the `!important` here to be able to override the default hidden behavior on the sphinx rendered scikit-learn.org. See: https://github.com/scikit-learn/scikit-learn/issues/21755 */display: inline-block !important;position: relative;}#sk-container-id-1 div.sk-text-repr-fallback {display: none;}</style><div id=\"sk-container-id-1\" class=\"sk-top-container\"><div class=\"sk-text-repr-fallback\"><pre>GridSearchCV(cv=5,\n",
       "             estimator=Pipeline(steps=[(&#x27;randomforestclassifier&#x27;,\n",
       "                                        RandomForestClassifier(random_state=42))]),\n",
       "             n_jobs=-1,\n",
       "             param_grid={&#x27;randomforestclassifier__max_depth&#x27;: range(10, 50, 10),\n",
       "                         &#x27;randomforestclassifier__n_estimators&#x27;: range(25, 100, 25)},\n",
       "             verbose=1)</pre><b>In a Jupyter environment, please rerun this cell to show the HTML representation or trust the notebook. <br />On GitHub, the HTML representation is unable to render, please try loading this page with nbviewer.org.</b></div><div class=\"sk-container\" hidden><div class=\"sk-item sk-dashed-wrapped\"><div class=\"sk-label-container\"><div class=\"sk-label sk-toggleable\"><input class=\"sk-toggleable__control sk-hidden--visually\" id=\"sk-estimator-id-1\" type=\"checkbox\" ><label for=\"sk-estimator-id-1\" class=\"sk-toggleable__label sk-toggleable__label-arrow\">GridSearchCV</label><div class=\"sk-toggleable__content\"><pre>GridSearchCV(cv=5,\n",
       "             estimator=Pipeline(steps=[(&#x27;randomforestclassifier&#x27;,\n",
       "                                        RandomForestClassifier(random_state=42))]),\n",
       "             n_jobs=-1,\n",
       "             param_grid={&#x27;randomforestclassifier__max_depth&#x27;: range(10, 50, 10),\n",
       "                         &#x27;randomforestclassifier__n_estimators&#x27;: range(25, 100, 25)},\n",
       "             verbose=1)</pre></div></div></div><div class=\"sk-parallel\"><div class=\"sk-parallel-item\"><div class=\"sk-item\"><div class=\"sk-label-container\"><div class=\"sk-label sk-toggleable\"><input class=\"sk-toggleable__control sk-hidden--visually\" id=\"sk-estimator-id-2\" type=\"checkbox\" ><label for=\"sk-estimator-id-2\" class=\"sk-toggleable__label sk-toggleable__label-arrow\">estimator: Pipeline</label><div class=\"sk-toggleable__content\"><pre>Pipeline(steps=[(&#x27;randomforestclassifier&#x27;,\n",
       "                 RandomForestClassifier(random_state=42))])</pre></div></div></div><div class=\"sk-serial\"><div class=\"sk-item\"><div class=\"sk-serial\"><div class=\"sk-item\"><div class=\"sk-estimator sk-toggleable\"><input class=\"sk-toggleable__control sk-hidden--visually\" id=\"sk-estimator-id-3\" type=\"checkbox\" ><label for=\"sk-estimator-id-3\" class=\"sk-toggleable__label sk-toggleable__label-arrow\">RandomForestClassifier</label><div class=\"sk-toggleable__content\"><pre>RandomForestClassifier(random_state=42)</pre></div></div></div></div></div></div></div></div></div></div></div></div>"
      ],
      "text/plain": [
       "GridSearchCV(cv=5,\n",
       "             estimator=Pipeline(steps=[('randomforestclassifier',\n",
       "                                        RandomForestClassifier(random_state=42))]),\n",
       "             n_jobs=-1,\n",
       "             param_grid={'randomforestclassifier__max_depth': range(10, 50, 10),\n",
       "                         'randomforestclassifier__n_estimators': range(25, 100, 25)},\n",
       "             verbose=1)"
      ]
     },
     "execution_count": 71,
     "metadata": {},
     "output_type": "execute_result"
    }
   ],
   "source": [
    "model = GridSearchCV(\n",
    "    clf,\n",
    "    param_grid = params,\n",
    "    cv = 5,\n",
    "    n_jobs = -1,\n",
    "    verbose= 1\n",
    ")\n",
    "model"
   ]
  },
  {
   "cell_type": "code",
   "execution_count": 72,
   "id": "2432749b",
   "metadata": {},
   "outputs": [
    {
     "name": "stdout",
     "output_type": "stream",
     "text": [
      "Fitting 5 folds for each of 12 candidates, totalling 60 fits\n"
     ]
    },
    {
     "data": {
      "text/html": [
       "<style>#sk-container-id-2 {color: black;background-color: white;}#sk-container-id-2 pre{padding: 0;}#sk-container-id-2 div.sk-toggleable {background-color: white;}#sk-container-id-2 label.sk-toggleable__label {cursor: pointer;display: block;width: 100%;margin-bottom: 0;padding: 0.3em;box-sizing: border-box;text-align: center;}#sk-container-id-2 label.sk-toggleable__label-arrow:before {content: \"▸\";float: left;margin-right: 0.25em;color: #696969;}#sk-container-id-2 label.sk-toggleable__label-arrow:hover:before {color: black;}#sk-container-id-2 div.sk-estimator:hover label.sk-toggleable__label-arrow:before {color: black;}#sk-container-id-2 div.sk-toggleable__content {max-height: 0;max-width: 0;overflow: hidden;text-align: left;background-color: #f0f8ff;}#sk-container-id-2 div.sk-toggleable__content pre {margin: 0.2em;color: black;border-radius: 0.25em;background-color: #f0f8ff;}#sk-container-id-2 input.sk-toggleable__control:checked~div.sk-toggleable__content {max-height: 200px;max-width: 100%;overflow: auto;}#sk-container-id-2 input.sk-toggleable__control:checked~label.sk-toggleable__label-arrow:before {content: \"▾\";}#sk-container-id-2 div.sk-estimator input.sk-toggleable__control:checked~label.sk-toggleable__label {background-color: #d4ebff;}#sk-container-id-2 div.sk-label input.sk-toggleable__control:checked~label.sk-toggleable__label {background-color: #d4ebff;}#sk-container-id-2 input.sk-hidden--visually {border: 0;clip: rect(1px 1px 1px 1px);clip: rect(1px, 1px, 1px, 1px);height: 1px;margin: -1px;overflow: hidden;padding: 0;position: absolute;width: 1px;}#sk-container-id-2 div.sk-estimator {font-family: monospace;background-color: #f0f8ff;border: 1px dotted black;border-radius: 0.25em;box-sizing: border-box;margin-bottom: 0.5em;}#sk-container-id-2 div.sk-estimator:hover {background-color: #d4ebff;}#sk-container-id-2 div.sk-parallel-item::after {content: \"\";width: 100%;border-bottom: 1px solid gray;flex-grow: 1;}#sk-container-id-2 div.sk-label:hover label.sk-toggleable__label {background-color: #d4ebff;}#sk-container-id-2 div.sk-serial::before {content: \"\";position: absolute;border-left: 1px solid gray;box-sizing: border-box;top: 0;bottom: 0;left: 50%;z-index: 0;}#sk-container-id-2 div.sk-serial {display: flex;flex-direction: column;align-items: center;background-color: white;padding-right: 0.2em;padding-left: 0.2em;position: relative;}#sk-container-id-2 div.sk-item {position: relative;z-index: 1;}#sk-container-id-2 div.sk-parallel {display: flex;align-items: stretch;justify-content: center;background-color: white;position: relative;}#sk-container-id-2 div.sk-item::before, #sk-container-id-2 div.sk-parallel-item::before {content: \"\";position: absolute;border-left: 1px solid gray;box-sizing: border-box;top: 0;bottom: 0;left: 50%;z-index: -1;}#sk-container-id-2 div.sk-parallel-item {display: flex;flex-direction: column;z-index: 1;position: relative;background-color: white;}#sk-container-id-2 div.sk-parallel-item:first-child::after {align-self: flex-end;width: 50%;}#sk-container-id-2 div.sk-parallel-item:last-child::after {align-self: flex-start;width: 50%;}#sk-container-id-2 div.sk-parallel-item:only-child::after {width: 0;}#sk-container-id-2 div.sk-dashed-wrapped {border: 1px dashed gray;margin: 0 0.4em 0.5em 0.4em;box-sizing: border-box;padding-bottom: 0.4em;background-color: white;}#sk-container-id-2 div.sk-label label {font-family: monospace;font-weight: bold;display: inline-block;line-height: 1.2em;}#sk-container-id-2 div.sk-label-container {text-align: center;}#sk-container-id-2 div.sk-container {/* jupyter's `normalize.less` sets `[hidden] { display: none; }` but bootstrap.min.css set `[hidden] { display: none !important; }` so we also need the `!important` here to be able to override the default hidden behavior on the sphinx rendered scikit-learn.org. See: https://github.com/scikit-learn/scikit-learn/issues/21755 */display: inline-block !important;position: relative;}#sk-container-id-2 div.sk-text-repr-fallback {display: none;}</style><div id=\"sk-container-id-2\" class=\"sk-top-container\"><div class=\"sk-text-repr-fallback\"><pre>GridSearchCV(cv=5,\n",
       "             estimator=Pipeline(steps=[(&#x27;randomforestclassifier&#x27;,\n",
       "                                        RandomForestClassifier(random_state=42))]),\n",
       "             n_jobs=-1,\n",
       "             param_grid={&#x27;randomforestclassifier__max_depth&#x27;: range(10, 50, 10),\n",
       "                         &#x27;randomforestclassifier__n_estimators&#x27;: range(25, 100, 25)},\n",
       "             verbose=1)</pre><b>In a Jupyter environment, please rerun this cell to show the HTML representation or trust the notebook. <br />On GitHub, the HTML representation is unable to render, please try loading this page with nbviewer.org.</b></div><div class=\"sk-container\" hidden><div class=\"sk-item sk-dashed-wrapped\"><div class=\"sk-label-container\"><div class=\"sk-label sk-toggleable\"><input class=\"sk-toggleable__control sk-hidden--visually\" id=\"sk-estimator-id-4\" type=\"checkbox\" ><label for=\"sk-estimator-id-4\" class=\"sk-toggleable__label sk-toggleable__label-arrow\">GridSearchCV</label><div class=\"sk-toggleable__content\"><pre>GridSearchCV(cv=5,\n",
       "             estimator=Pipeline(steps=[(&#x27;randomforestclassifier&#x27;,\n",
       "                                        RandomForestClassifier(random_state=42))]),\n",
       "             n_jobs=-1,\n",
       "             param_grid={&#x27;randomforestclassifier__max_depth&#x27;: range(10, 50, 10),\n",
       "                         &#x27;randomforestclassifier__n_estimators&#x27;: range(25, 100, 25)},\n",
       "             verbose=1)</pre></div></div></div><div class=\"sk-parallel\"><div class=\"sk-parallel-item\"><div class=\"sk-item\"><div class=\"sk-label-container\"><div class=\"sk-label sk-toggleable\"><input class=\"sk-toggleable__control sk-hidden--visually\" id=\"sk-estimator-id-5\" type=\"checkbox\" ><label for=\"sk-estimator-id-5\" class=\"sk-toggleable__label sk-toggleable__label-arrow\">estimator: Pipeline</label><div class=\"sk-toggleable__content\"><pre>Pipeline(steps=[(&#x27;randomforestclassifier&#x27;,\n",
       "                 RandomForestClassifier(random_state=42))])</pre></div></div></div><div class=\"sk-serial\"><div class=\"sk-item\"><div class=\"sk-serial\"><div class=\"sk-item\"><div class=\"sk-estimator sk-toggleable\"><input class=\"sk-toggleable__control sk-hidden--visually\" id=\"sk-estimator-id-6\" type=\"checkbox\" ><label for=\"sk-estimator-id-6\" class=\"sk-toggleable__label sk-toggleable__label-arrow\">RandomForestClassifier</label><div class=\"sk-toggleable__content\"><pre>RandomForestClassifier(random_state=42)</pre></div></div></div></div></div></div></div></div></div></div></div></div>"
      ],
      "text/plain": [
       "GridSearchCV(cv=5,\n",
       "             estimator=Pipeline(steps=[('randomforestclassifier',\n",
       "                                        RandomForestClassifier(random_state=42))]),\n",
       "             n_jobs=-1,\n",
       "             param_grid={'randomforestclassifier__max_depth': range(10, 50, 10),\n",
       "                         'randomforestclassifier__n_estimators': range(25, 100, 25)},\n",
       "             verbose=1)"
      ]
     },
     "execution_count": 72,
     "metadata": {},
     "output_type": "execute_result"
    }
   ],
   "source": [
    "# Train model\n",
    "model.fit(X_train_over, y_train_over)"
   ]
  },
  {
   "cell_type": "code",
   "execution_count": 73,
   "id": "851ff6ac",
   "metadata": {},
   "outputs": [
    {
     "data": {
      "text/html": [
       "<div>\n",
       "<style scoped>\n",
       "    .dataframe tbody tr th:only-of-type {\n",
       "        vertical-align: middle;\n",
       "    }\n",
       "\n",
       "    .dataframe tbody tr th {\n",
       "        vertical-align: top;\n",
       "    }\n",
       "\n",
       "    .dataframe thead th {\n",
       "        text-align: right;\n",
       "    }\n",
       "</style>\n",
       "<table border=\"1\" class=\"dataframe\">\n",
       "  <thead>\n",
       "    <tr style=\"text-align: right;\">\n",
       "      <th></th>\n",
       "      <th>mean_fit_time</th>\n",
       "      <th>std_fit_time</th>\n",
       "      <th>mean_score_time</th>\n",
       "      <th>std_score_time</th>\n",
       "      <th>param_randomforestclassifier__max_depth</th>\n",
       "      <th>param_randomforestclassifier__n_estimators</th>\n",
       "      <th>params</th>\n",
       "      <th>split0_test_score</th>\n",
       "      <th>split1_test_score</th>\n",
       "      <th>split2_test_score</th>\n",
       "      <th>split3_test_score</th>\n",
       "      <th>split4_test_score</th>\n",
       "      <th>mean_test_score</th>\n",
       "      <th>std_test_score</th>\n",
       "      <th>rank_test_score</th>\n",
       "    </tr>\n",
       "  </thead>\n",
       "  <tbody>\n",
       "    <tr>\n",
       "      <th>0</th>\n",
       "      <td>2.715080</td>\n",
       "      <td>0.113209</td>\n",
       "      <td>0.107231</td>\n",
       "      <td>0.026993</td>\n",
       "      <td>10</td>\n",
       "      <td>25</td>\n",
       "      <td>{'randomforestclassifier__max_depth': 10, 'ran...</td>\n",
       "      <td>0.765821</td>\n",
       "      <td>0.764284</td>\n",
       "      <td>0.770091</td>\n",
       "      <td>0.768212</td>\n",
       "      <td>0.761787</td>\n",
       "      <td>0.766039</td>\n",
       "      <td>0.002910</td>\n",
       "      <td>10</td>\n",
       "    </tr>\n",
       "    <tr>\n",
       "      <th>1</th>\n",
       "      <td>4.679643</td>\n",
       "      <td>0.243966</td>\n",
       "      <td>0.356129</td>\n",
       "      <td>0.253778</td>\n",
       "      <td>10</td>\n",
       "      <td>50</td>\n",
       "      <td>{'randomforestclassifier__max_depth': 10, 'ran...</td>\n",
       "      <td>0.767188</td>\n",
       "      <td>0.765394</td>\n",
       "      <td>0.768725</td>\n",
       "      <td>0.768469</td>\n",
       "      <td>0.759993</td>\n",
       "      <td>0.765954</td>\n",
       "      <td>0.003205</td>\n",
       "      <td>11</td>\n",
       "    </tr>\n",
       "    <tr>\n",
       "      <th>2</th>\n",
       "      <td>5.687212</td>\n",
       "      <td>0.221165</td>\n",
       "      <td>0.315911</td>\n",
       "      <td>0.177542</td>\n",
       "      <td>10</td>\n",
       "      <td>75</td>\n",
       "      <td>{'randomforestclassifier__max_depth': 10, 'ran...</td>\n",
       "      <td>0.767188</td>\n",
       "      <td>0.764967</td>\n",
       "      <td>0.768810</td>\n",
       "      <td>0.766419</td>\n",
       "      <td>0.760933</td>\n",
       "      <td>0.765663</td>\n",
       "      <td>0.002671</td>\n",
       "      <td>12</td>\n",
       "    </tr>\n",
       "    <tr>\n",
       "      <th>3</th>\n",
       "      <td>3.176757</td>\n",
       "      <td>0.079355</td>\n",
       "      <td>0.107381</td>\n",
       "      <td>0.014020</td>\n",
       "      <td>20</td>\n",
       "      <td>25</td>\n",
       "      <td>{'randomforestclassifier__max_depth': 20, 'ran...</td>\n",
       "      <td>0.937996</td>\n",
       "      <td>0.942181</td>\n",
       "      <td>0.948757</td>\n",
       "      <td>0.945597</td>\n",
       "      <td>0.948326</td>\n",
       "      <td>0.944572</td>\n",
       "      <td>0.004040</td>\n",
       "      <td>9</td>\n",
       "    </tr>\n",
       "    <tr>\n",
       "      <th>4</th>\n",
       "      <td>5.486641</td>\n",
       "      <td>0.128212</td>\n",
       "      <td>0.319260</td>\n",
       "      <td>0.187902</td>\n",
       "      <td>20</td>\n",
       "      <td>50</td>\n",
       "      <td>{'randomforestclassifier__max_depth': 20, 'ran...</td>\n",
       "      <td>0.945939</td>\n",
       "      <td>0.945000</td>\n",
       "      <td>0.952515</td>\n",
       "      <td>0.948843</td>\n",
       "      <td>0.948838</td>\n",
       "      <td>0.948227</td>\n",
       "      <td>0.002638</td>\n",
       "      <td>8</td>\n",
       "    </tr>\n",
       "    <tr>\n",
       "      <th>5</th>\n",
       "      <td>6.899885</td>\n",
       "      <td>0.248178</td>\n",
       "      <td>0.302811</td>\n",
       "      <td>0.016175</td>\n",
       "      <td>20</td>\n",
       "      <td>75</td>\n",
       "      <td>{'randomforestclassifier__max_depth': 20, 'ran...</td>\n",
       "      <td>0.946366</td>\n",
       "      <td>0.944402</td>\n",
       "      <td>0.953967</td>\n",
       "      <td>0.949868</td>\n",
       "      <td>0.949778</td>\n",
       "      <td>0.948876</td>\n",
       "      <td>0.003287</td>\n",
       "      <td>7</td>\n",
       "    </tr>\n",
       "    <tr>\n",
       "      <th>6</th>\n",
       "      <td>2.281035</td>\n",
       "      <td>0.044655</td>\n",
       "      <td>0.114686</td>\n",
       "      <td>0.003034</td>\n",
       "      <td>30</td>\n",
       "      <td>25</td>\n",
       "      <td>{'randomforestclassifier__max_depth': 30, 'ran...</td>\n",
       "      <td>0.962678</td>\n",
       "      <td>0.960970</td>\n",
       "      <td>0.963447</td>\n",
       "      <td>0.961312</td>\n",
       "      <td>0.961394</td>\n",
       "      <td>0.961960</td>\n",
       "      <td>0.000943</td>\n",
       "      <td>5</td>\n",
       "    </tr>\n",
       "    <tr>\n",
       "      <th>7</th>\n",
       "      <td>4.511170</td>\n",
       "      <td>0.047342</td>\n",
       "      <td>0.221989</td>\n",
       "      <td>0.010928</td>\n",
       "      <td>30</td>\n",
       "      <td>50</td>\n",
       "      <td>{'randomforestclassifier__max_depth': 30, 'ran...</td>\n",
       "      <td>0.965411</td>\n",
       "      <td>0.961739</td>\n",
       "      <td>0.966351</td>\n",
       "      <td>0.964557</td>\n",
       "      <td>0.963785</td>\n",
       "      <td>0.964369</td>\n",
       "      <td>0.001569</td>\n",
       "      <td>2</td>\n",
       "    </tr>\n",
       "    <tr>\n",
       "      <th>8</th>\n",
       "      <td>6.695185</td>\n",
       "      <td>0.052212</td>\n",
       "      <td>0.332909</td>\n",
       "      <td>0.009042</td>\n",
       "      <td>30</td>\n",
       "      <td>75</td>\n",
       "      <td>{'randomforestclassifier__max_depth': 30, 'ran...</td>\n",
       "      <td>0.965326</td>\n",
       "      <td>0.961995</td>\n",
       "      <td>0.965326</td>\n",
       "      <td>0.963191</td>\n",
       "      <td>0.962675</td>\n",
       "      <td>0.963702</td>\n",
       "      <td>0.001379</td>\n",
       "      <td>4</td>\n",
       "    </tr>\n",
       "    <tr>\n",
       "      <th>9</th>\n",
       "      <td>2.252168</td>\n",
       "      <td>0.043575</td>\n",
       "      <td>0.113013</td>\n",
       "      <td>0.002110</td>\n",
       "      <td>40</td>\n",
       "      <td>25</td>\n",
       "      <td>{'randomforestclassifier__max_depth': 40, 'ran...</td>\n",
       "      <td>0.963191</td>\n",
       "      <td>0.960714</td>\n",
       "      <td>0.962337</td>\n",
       "      <td>0.963020</td>\n",
       "      <td>0.959771</td>\n",
       "      <td>0.961806</td>\n",
       "      <td>0.001342</td>\n",
       "      <td>6</td>\n",
       "    </tr>\n",
       "  </tbody>\n",
       "</table>\n",
       "</div>"
      ],
      "text/plain": [
       "   mean_fit_time  std_fit_time  mean_score_time  std_score_time  \\\n",
       "0       2.715080      0.113209         0.107231        0.026993   \n",
       "1       4.679643      0.243966         0.356129        0.253778   \n",
       "2       5.687212      0.221165         0.315911        0.177542   \n",
       "3       3.176757      0.079355         0.107381        0.014020   \n",
       "4       5.486641      0.128212         0.319260        0.187902   \n",
       "5       6.899885      0.248178         0.302811        0.016175   \n",
       "6       2.281035      0.044655         0.114686        0.003034   \n",
       "7       4.511170      0.047342         0.221989        0.010928   \n",
       "8       6.695185      0.052212         0.332909        0.009042   \n",
       "9       2.252168      0.043575         0.113013        0.002110   \n",
       "\n",
       "  param_randomforestclassifier__max_depth  \\\n",
       "0                                      10   \n",
       "1                                      10   \n",
       "2                                      10   \n",
       "3                                      20   \n",
       "4                                      20   \n",
       "5                                      20   \n",
       "6                                      30   \n",
       "7                                      30   \n",
       "8                                      30   \n",
       "9                                      40   \n",
       "\n",
       "  param_randomforestclassifier__n_estimators  \\\n",
       "0                                         25   \n",
       "1                                         50   \n",
       "2                                         75   \n",
       "3                                         25   \n",
       "4                                         50   \n",
       "5                                         75   \n",
       "6                                         25   \n",
       "7                                         50   \n",
       "8                                         75   \n",
       "9                                         25   \n",
       "\n",
       "                                              params  split0_test_score  \\\n",
       "0  {'randomforestclassifier__max_depth': 10, 'ran...           0.765821   \n",
       "1  {'randomforestclassifier__max_depth': 10, 'ran...           0.767188   \n",
       "2  {'randomforestclassifier__max_depth': 10, 'ran...           0.767188   \n",
       "3  {'randomforestclassifier__max_depth': 20, 'ran...           0.937996   \n",
       "4  {'randomforestclassifier__max_depth': 20, 'ran...           0.945939   \n",
       "5  {'randomforestclassifier__max_depth': 20, 'ran...           0.946366   \n",
       "6  {'randomforestclassifier__max_depth': 30, 'ran...           0.962678   \n",
       "7  {'randomforestclassifier__max_depth': 30, 'ran...           0.965411   \n",
       "8  {'randomforestclassifier__max_depth': 30, 'ran...           0.965326   \n",
       "9  {'randomforestclassifier__max_depth': 40, 'ran...           0.963191   \n",
       "\n",
       "   split1_test_score  split2_test_score  split3_test_score  split4_test_score  \\\n",
       "0           0.764284           0.770091           0.768212           0.761787   \n",
       "1           0.765394           0.768725           0.768469           0.759993   \n",
       "2           0.764967           0.768810           0.766419           0.760933   \n",
       "3           0.942181           0.948757           0.945597           0.948326   \n",
       "4           0.945000           0.952515           0.948843           0.948838   \n",
       "5           0.944402           0.953967           0.949868           0.949778   \n",
       "6           0.960970           0.963447           0.961312           0.961394   \n",
       "7           0.961739           0.966351           0.964557           0.963785   \n",
       "8           0.961995           0.965326           0.963191           0.962675   \n",
       "9           0.960714           0.962337           0.963020           0.959771   \n",
       "\n",
       "   mean_test_score  std_test_score  rank_test_score  \n",
       "0         0.766039        0.002910               10  \n",
       "1         0.765954        0.003205               11  \n",
       "2         0.765663        0.002671               12  \n",
       "3         0.944572        0.004040                9  \n",
       "4         0.948227        0.002638                8  \n",
       "5         0.948876        0.003287                7  \n",
       "6         0.961960        0.000943                5  \n",
       "7         0.964369        0.001569                2  \n",
       "8         0.963702        0.001379                4  \n",
       "9         0.961806        0.001342                6  "
      ]
     },
     "execution_count": 73,
     "metadata": {},
     "output_type": "execute_result"
    }
   ],
   "source": [
    "cv_results = pd.DataFrame(model.cv_results_)\n",
    "cv_results.head(10)"
   ]
  },
  {
   "cell_type": "code",
   "execution_count": 74,
   "id": "4c7f9c3c",
   "metadata": {},
   "outputs": [
    {
     "data": {
      "image/png": "[encoded data removed]",
      "text/plain": [
       "<Figure size 432x288 with 1 Axes>"
      ]
     },
     "metadata": {
      "needs_background": "light"
     },
     "output_type": "display_data"
    }
   ],
   "source": [
    "# Create mask\n",
    "mask = cv_results[\"param_randomforestclassifier__max_depth\"] == 40\n",
    "# Plot fit time vs n_estimators\n",
    "plt.plot( cv_results[mask][\"param_randomforestclassifier__n_estimators\"],\n",
    "         cv_results[mask][\"mean_fit_time\"]    \n",
    ")\n",
    "# Label axes\n",
    "plt.xlabel(\"Number of Estimators\")\n",
    "plt.ylabel(\"Mean Fit Time [seconds]\")\n",
    "plt.title(\"Training Time vs Estimators (max_depth=40)\");"
   ]
  },
  {
   "cell_type": "code",
   "execution_count": 75,
   "id": "e09c38cc",
   "metadata": {},
   "outputs": [
    {
     "data": {
      "image/png": "[encoded data removed]",
      "text/plain": [
       "<Figure size 432x288 with 1 Axes>"
      ]
     },
     "metadata": {
      "needs_background": "light"
     },
     "output_type": "display_data"
    }
   ],
   "source": [
    "# Create mask\n",
    "mask = cv_results[\"param_randomforestclassifier__n_estimators\"] == 50\n",
    "# Plot fit time vs max_depth\n",
    "plt.plot( cv_results[mask][\"param_randomforestclassifier__max_depth\"],\n",
    "         cv_results[mask][\"mean_fit_time\"]\n",
    "    \n",
    ")\n",
    "\n",
    "# Label axes\n",
    "plt.xlabel(\"Max Depth\")\n",
    "plt.ylabel(\"Mean Fit Time [seconds]\")\n",
    "plt.title(\"Training Time vs Max Depth (n_estimators=50)\");"
   ]
  },
  {
   "cell_type": "code",
   "execution_count": 76,
   "id": "209de0e2",
   "metadata": {},
   "outputs": [
    {
     "data": {
      "text/html": [
       "<div>\n",
       "<style scoped>\n",
       "    .dataframe tbody tr th:only-of-type {\n",
       "        vertical-align: middle;\n",
       "    }\n",
       "\n",
       "    .dataframe tbody tr th {\n",
       "        vertical-align: top;\n",
       "    }\n",
       "\n",
       "    .dataframe thead th {\n",
       "        text-align: right;\n",
       "    }\n",
       "</style>\n",
       "<table border=\"1\" class=\"dataframe\">\n",
       "  <thead>\n",
       "    <tr style=\"text-align: right;\">\n",
       "      <th></th>\n",
       "      <th>mean_fit_time</th>\n",
       "      <th>param_randomforestclassifier__max_depth</th>\n",
       "    </tr>\n",
       "  </thead>\n",
       "  <tbody>\n",
       "    <tr>\n",
       "      <th>1</th>\n",
       "      <td>4.679643</td>\n",
       "      <td>10</td>\n",
       "    </tr>\n",
       "    <tr>\n",
       "      <th>4</th>\n",
       "      <td>5.486641</td>\n",
       "      <td>20</td>\n",
       "    </tr>\n",
       "    <tr>\n",
       "      <th>7</th>\n",
       "      <td>4.511170</td>\n",
       "      <td>30</td>\n",
       "    </tr>\n",
       "    <tr>\n",
       "      <th>10</th>\n",
       "      <td>4.498563</td>\n",
       "      <td>40</td>\n",
       "    </tr>\n",
       "  </tbody>\n",
       "</table>\n",
       "</div>"
      ],
      "text/plain": [
       "    mean_fit_time param_randomforestclassifier__max_depth\n",
       "1        4.679643                                      10\n",
       "4        5.486641                                      20\n",
       "7        4.511170                                      30\n",
       "10       4.498563                                      40"
      ]
     },
     "execution_count": 76,
     "metadata": {},
     "output_type": "execute_result"
    }
   ],
   "source": [
    "cv_results[mask][[\"mean_fit_time\", \"param_randomforestclassifier__max_depth\"]]"
   ]
  },
  {
   "cell_type": "code",
   "execution_count": 77,
   "id": "8cbf00ce",
   "metadata": {},
   "outputs": [
    {
     "data": {
      "text/plain": [
       "{'randomforestclassifier__max_depth': 40,\n",
       " 'randomforestclassifier__n_estimators': 50}"
      ]
     },
     "execution_count": 77,
     "metadata": {},
     "output_type": "execute_result"
    }
   ],
   "source": [
    "# Extract best hyperparameters\n",
    "model.best_params_"
   ]
  },
  {
   "cell_type": "code",
   "execution_count": 78,
   "id": "764ef2a0",
   "metadata": {},
   "outputs": [
    {
     "data": {
      "text/plain": [
       "0.9645394569010264"
      ]
     },
     "execution_count": 78,
     "metadata": {},
     "output_type": "execute_result"
    }
   ],
   "source": [
    "model.best_score_"
   ]
  },
  {
   "cell_type": "markdown",
   "id": "8f0d57a4",
   "metadata": {},
   "source": [
    "### Evaluate "
   ]
  },
  {
   "cell_type": "code",
   "execution_count": 79,
   "id": "dd53c158",
   "metadata": {},
   "outputs": [
    {
     "data": {
      "text/html": [
       "<div>\n",
       "<style scoped>\n",
       "    .dataframe tbody tr th:only-of-type {\n",
       "        vertical-align: middle;\n",
       "    }\n",
       "\n",
       "    .dataframe tbody tr th {\n",
       "        vertical-align: top;\n",
       "    }\n",
       "\n",
       "    .dataframe thead th {\n",
       "        text-align: right;\n",
       "    }\n",
       "</style>\n",
       "<table border=\"1\" class=\"dataframe\">\n",
       "  <thead>\n",
       "    <tr style=\"text-align: right;\">\n",
       "      <th></th>\n",
       "      <th>age</th>\n",
       "      <th>education</th>\n",
       "      <th>housing</th>\n",
       "      <th>loan</th>\n",
       "      <th>campaign</th>\n",
       "      <th>pdays</th>\n",
       "      <th>previous</th>\n",
       "      <th>emp.var.rate</th>\n",
       "      <th>cons.price.idx</th>\n",
       "      <th>cons.conf.idx</th>\n",
       "      <th>...</th>\n",
       "      <th>month_oct</th>\n",
       "      <th>month_sep</th>\n",
       "      <th>day_of_week_fri</th>\n",
       "      <th>day_of_week_mon</th>\n",
       "      <th>day_of_week_thu</th>\n",
       "      <th>day_of_week_tue</th>\n",
       "      <th>day_of_week_wed</th>\n",
       "      <th>poutcome_failure</th>\n",
       "      <th>poutcome_nonexistent</th>\n",
       "      <th>poutcome_success</th>\n",
       "    </tr>\n",
       "  </thead>\n",
       "  <tbody>\n",
       "    <tr>\n",
       "      <th>36264</th>\n",
       "      <td>4.077537</td>\n",
       "      <td>5.0</td>\n",
       "      <td>1</td>\n",
       "      <td>1</td>\n",
       "      <td>1</td>\n",
       "      <td>999</td>\n",
       "      <td>0</td>\n",
       "      <td>-2.9</td>\n",
       "      <td>92.963</td>\n",
       "      <td>-40.8</td>\n",
       "      <td>...</td>\n",
       "      <td>0</td>\n",
       "      <td>0</td>\n",
       "      <td>0</td>\n",
       "      <td>1</td>\n",
       "      <td>0</td>\n",
       "      <td>0</td>\n",
       "      <td>0</td>\n",
       "      <td>0</td>\n",
       "      <td>1</td>\n",
       "      <td>0</td>\n",
       "    </tr>\n",
       "    <tr>\n",
       "      <th>32672</th>\n",
       "      <td>3.526361</td>\n",
       "      <td>0.0</td>\n",
       "      <td>0</td>\n",
       "      <td>0</td>\n",
       "      <td>1</td>\n",
       "      <td>999</td>\n",
       "      <td>1</td>\n",
       "      <td>-1.8</td>\n",
       "      <td>92.893</td>\n",
       "      <td>-46.2</td>\n",
       "      <td>...</td>\n",
       "      <td>0</td>\n",
       "      <td>0</td>\n",
       "      <td>0</td>\n",
       "      <td>1</td>\n",
       "      <td>0</td>\n",
       "      <td>0</td>\n",
       "      <td>0</td>\n",
       "      <td>1</td>\n",
       "      <td>0</td>\n",
       "      <td>0</td>\n",
       "    </tr>\n",
       "    <tr>\n",
       "      <th>40872</th>\n",
       "      <td>3.465736</td>\n",
       "      <td>5.0</td>\n",
       "      <td>1</td>\n",
       "      <td>0</td>\n",
       "      <td>2</td>\n",
       "      <td>999</td>\n",
       "      <td>0</td>\n",
       "      <td>-1.1</td>\n",
       "      <td>94.601</td>\n",
       "      <td>-49.5</td>\n",
       "      <td>...</td>\n",
       "      <td>1</td>\n",
       "      <td>0</td>\n",
       "      <td>0</td>\n",
       "      <td>0</td>\n",
       "      <td>0</td>\n",
       "      <td>0</td>\n",
       "      <td>1</td>\n",
       "      <td>0</td>\n",
       "      <td>1</td>\n",
       "      <td>0</td>\n",
       "    </tr>\n",
       "    <tr>\n",
       "      <th>32907</th>\n",
       "      <td>3.970292</td>\n",
       "      <td>6.0</td>\n",
       "      <td>1</td>\n",
       "      <td>1</td>\n",
       "      <td>2</td>\n",
       "      <td>999</td>\n",
       "      <td>1</td>\n",
       "      <td>-1.8</td>\n",
       "      <td>92.893</td>\n",
       "      <td>-46.2</td>\n",
       "      <td>...</td>\n",
       "      <td>0</td>\n",
       "      <td>0</td>\n",
       "      <td>0</td>\n",
       "      <td>1</td>\n",
       "      <td>0</td>\n",
       "      <td>0</td>\n",
       "      <td>0</td>\n",
       "      <td>1</td>\n",
       "      <td>0</td>\n",
       "      <td>0</td>\n",
       "    </tr>\n",
       "    <tr>\n",
       "      <th>16464</th>\n",
       "      <td>3.178054</td>\n",
       "      <td>0.0</td>\n",
       "      <td>1</td>\n",
       "      <td>0</td>\n",
       "      <td>1</td>\n",
       "      <td>999</td>\n",
       "      <td>0</td>\n",
       "      <td>1.4</td>\n",
       "      <td>93.918</td>\n",
       "      <td>-42.7</td>\n",
       "      <td>...</td>\n",
       "      <td>0</td>\n",
       "      <td>0</td>\n",
       "      <td>0</td>\n",
       "      <td>0</td>\n",
       "      <td>0</td>\n",
       "      <td>0</td>\n",
       "      <td>1</td>\n",
       "      <td>0</td>\n",
       "      <td>1</td>\n",
       "      <td>0</td>\n",
       "    </tr>\n",
       "  </tbody>\n",
       "</table>\n",
       "<p>5 rows × 46 columns</p>\n",
       "</div>"
      ],
      "text/plain": [
       "            age  education  housing  loan  campaign  pdays  previous  \\\n",
       "36264  4.077537        5.0        1     1         1    999         0   \n",
       "32672  3.526361        0.0        0     0         1    999         1   \n",
       "40872  3.465736        5.0        1     0         2    999         0   \n",
       "32907  3.970292        6.0        1     1         2    999         1   \n",
       "16464  3.178054        0.0        1     0         1    999         0   \n",
       "\n",
       "       emp.var.rate  cons.price.idx  cons.conf.idx  ...  month_oct  month_sep  \\\n",
       "36264          -2.9          92.963          -40.8  ...          0          0   \n",
       "32672          -1.8          92.893          -46.2  ...          0          0   \n",
       "40872          -1.1          94.601          -49.5  ...          1          0   \n",
       "32907          -1.8          92.893          -46.2  ...          0          0   \n",
       "16464           1.4          93.918          -42.7  ...          0          0   \n",
       "\n",
       "       day_of_week_fri  day_of_week_mon  day_of_week_thu  day_of_week_tue  \\\n",
       "36264                0                1                0                0   \n",
       "32672                0                1                0                0   \n",
       "40872                0                0                0                0   \n",
       "32907                0                1                0                0   \n",
       "16464                0                0                0                0   \n",
       "\n",
       "       day_of_week_wed  poutcome_failure  poutcome_nonexistent  \\\n",
       "36264                0                 0                     1   \n",
       "32672                0                 1                     0   \n",
       "40872                1                 0                     1   \n",
       "32907                0                 1                     0   \n",
       "16464                1                 0                     1   \n",
       "\n",
       "       poutcome_success  \n",
       "36264                 0  \n",
       "32672                 0  \n",
       "40872                 0  \n",
       "32907                 0  \n",
       "16464                 0  \n",
       "\n",
       "[5 rows x 46 columns]"
      ]
     },
     "execution_count": 79,
     "metadata": {},
     "output_type": "execute_result"
    }
   ],
   "source": [
    "X_test.head()"
   ]
  },
  {
   "cell_type": "code",
   "execution_count": 80,
   "id": "a382d7e5",
   "metadata": {},
   "outputs": [
    {
     "name": "stdout",
     "output_type": "stream",
     "text": [
      "Training Accuracy: 0.9963\n",
      "Test Accuracy: 0.8752\n"
     ]
    }
   ],
   "source": [
    "acc_train = model.score(X_train_over,y_train_over)\n",
    "acc_test = model.score(X_test, y_test)\n",
    "\n",
    "\n",
    "\n",
    "print(\"Training Accuracy:\", round(acc_train, 4))\n",
    "print(\"Test Accuracy:\", round(acc_test, 4))"
   ]
  },
  {
   "cell_type": "markdown",
   "id": "4d938248",
   "metadata": {},
   "source": [
    "Our testing accuracy is very close to baseline accuracy. Howevever we failed to beat it. "
   ]
  },
  {
   "cell_type": "markdown",
   "id": "c691af0b",
   "metadata": {},
   "source": [
    "A better way to measure the success of the model when dealing with imbalanced data would be to see the ROC AUC score"
   ]
  },
  {
   "cell_type": "code",
   "execution_count": 81,
   "id": "2ad639bb",
   "metadata": {},
   "outputs": [
    {
     "data": {
      "text/plain": [
       "y\n",
       "0    7265\n",
       "1     971\n",
       "dtype: int64"
      ]
     },
     "execution_count": 81,
     "metadata": {},
     "output_type": "execute_result"
    }
   ],
   "source": [
    "y_test.value_counts()"
   ]
  },
  {
   "cell_type": "code",
   "execution_count": 82,
   "id": "3eb56a41",
   "metadata": {},
   "outputs": [
    {
     "data": {
      "image/png": "[encoded data removed]",
      "text/plain": [
       "<Figure size 432x288 with 2 Axes>"
      ]
     },
     "metadata": {
      "needs_background": "light"
     },
     "output_type": "display_data"
    }
   ],
   "source": [
    "# Plot confusion matrix\n",
    "ConfusionMatrixDisplay.from_estimator(model, X_test, y_test);"
   ]
  },
  {
   "cell_type": "code",
   "execution_count": 85,
   "id": "a297375f",
   "metadata": {},
   "outputs": [
    {
     "name": "stdout",
     "output_type": "stream",
     "text": [
      "No Skill: ROC AUC=0.500\n",
      "RandomForest: ROC AUC=0.762\n"
     ]
    },
    {
     "data": {
      "image/png": "[encoded data removed]",
      "text/plain": [
       "<Figure size 432x288 with 1 Axes>"
      ]
     },
     "metadata": {
      "needs_background": "light"
     },
     "output_type": "display_data"
    }
   ],
   "source": [
    "from sklearn.metrics import roc_auc_score\n",
    "from sklearn.metrics import roc_curve\n",
    "\n",
    "ns_probs = [0 for _ in range(len(y_test))]\n",
    "# predict probabilities\n",
    "lr_probs = model.predict_proba(X_test)\n",
    "# keep probabilities for the positive outcome only\n",
    "lr_probs = lr_probs[:, 1]\n",
    "# calculate scores\n",
    "ns_auc = roc_auc_score(y_test, ns_probs)\n",
    "lr_auc = roc_auc_score(y_test, lr_probs)\n",
    "# summarize scores\n",
    "print('No Skill: ROC AUC=%.3f' % (ns_auc))\n",
    "print('RandomForest: ROC AUC=%.3f' % (lr_auc))\n",
    "# calculate roc curves\n",
    "ns_fpr, ns_tpr, _ = roc_curve(y_test, ns_probs)\n",
    "lr_fpr, lr_tpr, _ = roc_curve(y_test, lr_probs)\n",
    "# plot the roc curve for the model\n",
    "plt.plot(ns_fpr, ns_tpr, linestyle='--', label='No Skill')\n",
    "plt.plot(lr_fpr, lr_tpr, marker='.', label='Random Forest')\n",
    "# axis labels\n",
    "plt.xlabel('False Positive Rate')\n",
    "plt.ylabel('True Positive Rate')\n",
    "# show the legend\n",
    "plt.legend()\n",
    "# show the plot\n",
    "plt.show()"
   ]
  },
  {
   "cell_type": "markdown",
   "id": "faf27a41",
   "metadata": {},
   "source": [
    "### Communicate"
   ]
  },
  {
   "cell_type": "code",
   "execution_count": 84,
   "id": "d95562d6",
   "metadata": {},
   "outputs": [
    {
     "data": {
      "image/png": "[encoded data removed]",
      "text/plain": [
       "<Figure size 432x288 with 1 Axes>"
      ]
     },
     "metadata": {
      "needs_background": "light"
     },
     "output_type": "display_data"
    }
   ],
   "source": [
    "# Get feature names from training data\n",
    "features = X_train_over.columns\n",
    "\n",
    "# Extract importances from model\n",
    "importances = model.best_estimator_.named_steps[\"randomforestclassifier\"].feature_importances_\n",
    "# Create a series with feature names and importances\n",
    "feat_imp = pd.Series(importances, index=features).sort_values()\n",
    "# Plot 10 most important features\n",
    "feat_imp.tail(10).plot(kind = \"barh\")\n",
    "plt.xlabel(\"Gini Importance\")\n",
    "plt.ylabel(\"Feature\")\n",
    "plt.title(\"Feature Importance\");"
   ]
  }
 ],
 "metadata": {
  "kernelspec": {
   "display_name": "DataGlacier_Project",
   "language": "python",
   "name": "dataglacier_project"
  },
  "language_info": {
   "codemirror_mode": {
    "name": "ipython",
    "version": 3
   },
   "file_extension": ".py",
   "mimetype": "text/x-python",
   "name": "python",
   "nbconvert_exporter": "python",
   "pygments_lexer": "ipython3",
   "version": "3.10.5"
  }
 },
 "nbformat": 4,
 "nbformat_minor": 5
}
